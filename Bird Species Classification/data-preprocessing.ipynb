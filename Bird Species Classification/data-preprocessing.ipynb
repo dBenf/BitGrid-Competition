{
  "cells": [
    {
      "cell_type": "markdown",
      "source": [
        "# Bird Classification Preprocessing"
      ],
      "metadata": {
        "id": "8IgYSjQ-Lyqp"
      }
    },
    {
      "cell_type": "markdown",
      "source": [
        "## Problem Statement"
      ],
      "metadata": {
        "id": "mqX_UqsGL3dG"
      }
    },
    {
      "cell_type": "markdown",
      "metadata": {
        "id": "WUPutjUNmNCd"
      },
      "source": [
        "Scientists have determined that a known species of bird should be divided into 3 distinct and separate species. These species are endemic to a particular region of the country and their populations must be tracked and estimated with as much precision as possible. As such, a non-profit conservation society has taken up the task. They need to be able to log which species they have encountered based on the characteristics that their field officers observe in the wild. \n",
        "\n",
        "Using certain genetic traits and location data, can you predict the species of bird that has been observed?\n",
        "\n",
        "This is a beginner-level practice competition and your goal is to predict the bird species (A, B, or C) based on attributes or location."
      ]
    },
    {
      "cell_type": "markdown",
      "metadata": {
        "id": "u0tKeppymNCg"
      },
      "source": [
        "## Import libraries"
      ]
    },
    {
      "cell_type": "code",
      "execution_count": 1,
      "metadata": {
        "id": "IgPxIKQZmNCh"
      },
      "outputs": [],
      "source": [
        "# Data Management Libraries\n",
        "import pandas as pd\n",
        "\n",
        "# Plotting Libraries\n",
        "import matplotlib\n",
        "import matplotlib.pyplot as plt\n",
        "import seaborn as sns\n",
        "matplotlib.rcParams['figure.dpi'] = 100\n",
        "sns.set(rc={'figure.figsize':(11.7,8.27)})\n",
        "sns.set(style=\"whitegrid\")\n",
        "%matplotlib inline\n",
        "\n",
        "# Machine Learning Libraries\n",
        "from sklearn.impute import SimpleImputer\n",
        "from sklearn.preprocessing import LabelEncoder\n",
        "from scipy.stats import zscore"
      ]
    },
    {
      "cell_type": "markdown",
      "metadata": {
        "id": "rRz-1WIbmNCj"
      },
      "source": [
        "## Helper functions"
      ]
    },
    {
      "cell_type": "markdown",
      "source": [
        "Define a function for the definition of missing values"
      ],
      "metadata": {
        "id": "9y1NLMFXMRs0"
      }
    },
    {
      "cell_type": "code",
      "execution_count": 2,
      "metadata": {
        "id": "guPSYvNdmNCj"
      },
      "outputs": [],
      "source": [
        "def missing_vals(df):\n",
        "    \"\"\"prints out columns with perc of missing values\"\"\"\n",
        "    missing = [\n",
        "        (df.columns[idx], perc)\n",
        "        for idx, perc in enumerate(df.isna().mean() * 100)\n",
        "        if perc > 0\n",
        "    ]\n",
        "\n",
        "    if len(missing) == 0:\n",
        "        return \"no missing values\"\n",
        "        \n",
        "\n",
        "    # sort desc by perc\n",
        "    missing.sort(key=lambda x: x[1], reverse=True)\n",
        "\n",
        "    print(f\"There are a total of {len(missing)} variables with missing values\\n\")\n",
        "\n",
        "    for tup in missing:\n",
        "        print(str.ljust(f\"{tup[0]:<20} => {round(tup[1], 3)}%\", 1))"
      ]
    },
    {
      "cell_type": "markdown",
      "metadata": {
        "id": "vrUd7Q4_mNCk"
      },
      "source": [
        "## Load data"
      ]
    },
    {
      "cell_type": "markdown",
      "metadata": {
        "id": "Flky3kEbmNCm"
      },
      "source": [
        "First we load the train and test data using the `read_csv` function.\n",
        "\n",
        "We also merge `training_set.csv` (containing the features) with `training_target.csv` (containing the target variable) and form the train data."
      ]
    },
    {
      "cell_type": "code",
      "execution_count": 48,
      "metadata": {
        "id": "QreXTSRjmNCl"
      },
      "outputs": [],
      "source": [
        "train = pd.read_csv(\"/content/training_set.csv\")\n",
        "labels = pd.read_csv(\"/content/training_target.csv\")\n",
        "\n",
        "# join target variable to training set\n",
        "train = train.merge(labels, on=\"ID\")\n",
        "\n",
        "test = pd.read_csv(\"/content/test_set.csv\")"
      ]
    },
    {
      "cell_type": "code",
      "execution_count": 4,
      "metadata": {
        "colab": {
          "base_uri": "https://localhost:8080/",
          "height": 206
        },
        "id": "YqnGQefBmNCm",
        "outputId": "c2827677-517c-4d46-97ee-351a5c7cc42d"
      },
      "outputs": [
        {
          "output_type": "execute_result",
          "data": {
            "text/plain": [
              "   bill_depth  bill_length  wing_length location    mass  sex   ID species\n",
              "0   14.300000    48.200000   210.000000    loc_2  4600.0  0.0  284       C\n",
              "1   14.400000    48.400000   203.000000    loc_2  4625.0  0.0  101       C\n",
              "2   18.400000          NaN   200.000000    loc_3  3400.0  0.0  400       B\n",
              "3   14.982114    47.504878          NaN      NaN  4800.0  0.0   98       C\n",
              "4   18.982114    38.259307   217.186992    loc_3  5200.0  0.0  103       C"
            ],
            "text/html": [
              "\n",
              "  <div id=\"df-8a7da5e2-dbad-4e9e-89d5-0eb7e9aae4ec\">\n",
              "    <div class=\"colab-df-container\">\n",
              "      <div>\n",
              "<style scoped>\n",
              "    .dataframe tbody tr th:only-of-type {\n",
              "        vertical-align: middle;\n",
              "    }\n",
              "\n",
              "    .dataframe tbody tr th {\n",
              "        vertical-align: top;\n",
              "    }\n",
              "\n",
              "    .dataframe thead th {\n",
              "        text-align: right;\n",
              "    }\n",
              "</style>\n",
              "<table border=\"1\" class=\"dataframe\">\n",
              "  <thead>\n",
              "    <tr style=\"text-align: right;\">\n",
              "      <th></th>\n",
              "      <th>bill_depth</th>\n",
              "      <th>bill_length</th>\n",
              "      <th>wing_length</th>\n",
              "      <th>location</th>\n",
              "      <th>mass</th>\n",
              "      <th>sex</th>\n",
              "      <th>ID</th>\n",
              "      <th>species</th>\n",
              "    </tr>\n",
              "  </thead>\n",
              "  <tbody>\n",
              "    <tr>\n",
              "      <th>0</th>\n",
              "      <td>14.300000</td>\n",
              "      <td>48.200000</td>\n",
              "      <td>210.000000</td>\n",
              "      <td>loc_2</td>\n",
              "      <td>4600.0</td>\n",
              "      <td>0.0</td>\n",
              "      <td>284</td>\n",
              "      <td>C</td>\n",
              "    </tr>\n",
              "    <tr>\n",
              "      <th>1</th>\n",
              "      <td>14.400000</td>\n",
              "      <td>48.400000</td>\n",
              "      <td>203.000000</td>\n",
              "      <td>loc_2</td>\n",
              "      <td>4625.0</td>\n",
              "      <td>0.0</td>\n",
              "      <td>101</td>\n",
              "      <td>C</td>\n",
              "    </tr>\n",
              "    <tr>\n",
              "      <th>2</th>\n",
              "      <td>18.400000</td>\n",
              "      <td>NaN</td>\n",
              "      <td>200.000000</td>\n",
              "      <td>loc_3</td>\n",
              "      <td>3400.0</td>\n",
              "      <td>0.0</td>\n",
              "      <td>400</td>\n",
              "      <td>B</td>\n",
              "    </tr>\n",
              "    <tr>\n",
              "      <th>3</th>\n",
              "      <td>14.982114</td>\n",
              "      <td>47.504878</td>\n",
              "      <td>NaN</td>\n",
              "      <td>NaN</td>\n",
              "      <td>4800.0</td>\n",
              "      <td>0.0</td>\n",
              "      <td>98</td>\n",
              "      <td>C</td>\n",
              "    </tr>\n",
              "    <tr>\n",
              "      <th>4</th>\n",
              "      <td>18.982114</td>\n",
              "      <td>38.259307</td>\n",
              "      <td>217.186992</td>\n",
              "      <td>loc_3</td>\n",
              "      <td>5200.0</td>\n",
              "      <td>0.0</td>\n",
              "      <td>103</td>\n",
              "      <td>C</td>\n",
              "    </tr>\n",
              "  </tbody>\n",
              "</table>\n",
              "</div>\n",
              "      <button class=\"colab-df-convert\" onclick=\"convertToInteractive('df-8a7da5e2-dbad-4e9e-89d5-0eb7e9aae4ec')\"\n",
              "              title=\"Convert this dataframe to an interactive table.\"\n",
              "              style=\"display:none;\">\n",
              "        \n",
              "  <svg xmlns=\"http://www.w3.org/2000/svg\" height=\"24px\"viewBox=\"0 0 24 24\"\n",
              "       width=\"24px\">\n",
              "    <path d=\"M0 0h24v24H0V0z\" fill=\"none\"/>\n",
              "    <path d=\"M18.56 5.44l.94 2.06.94-2.06 2.06-.94-2.06-.94-.94-2.06-.94 2.06-2.06.94zm-11 1L8.5 8.5l.94-2.06 2.06-.94-2.06-.94L8.5 2.5l-.94 2.06-2.06.94zm10 10l.94 2.06.94-2.06 2.06-.94-2.06-.94-.94-2.06-.94 2.06-2.06.94z\"/><path d=\"M17.41 7.96l-1.37-1.37c-.4-.4-.92-.59-1.43-.59-.52 0-1.04.2-1.43.59L10.3 9.45l-7.72 7.72c-.78.78-.78 2.05 0 2.83L4 21.41c.39.39.9.59 1.41.59.51 0 1.02-.2 1.41-.59l7.78-7.78 2.81-2.81c.8-.78.8-2.07 0-2.86zM5.41 20L4 18.59l7.72-7.72 1.47 1.35L5.41 20z\"/>\n",
              "  </svg>\n",
              "      </button>\n",
              "      \n",
              "  <style>\n",
              "    .colab-df-container {\n",
              "      display:flex;\n",
              "      flex-wrap:wrap;\n",
              "      gap: 12px;\n",
              "    }\n",
              "\n",
              "    .colab-df-convert {\n",
              "      background-color: #E8F0FE;\n",
              "      border: none;\n",
              "      border-radius: 50%;\n",
              "      cursor: pointer;\n",
              "      display: none;\n",
              "      fill: #1967D2;\n",
              "      height: 32px;\n",
              "      padding: 0 0 0 0;\n",
              "      width: 32px;\n",
              "    }\n",
              "\n",
              "    .colab-df-convert:hover {\n",
              "      background-color: #E2EBFA;\n",
              "      box-shadow: 0px 1px 2px rgba(60, 64, 67, 0.3), 0px 1px 3px 1px rgba(60, 64, 67, 0.15);\n",
              "      fill: #174EA6;\n",
              "    }\n",
              "\n",
              "    [theme=dark] .colab-df-convert {\n",
              "      background-color: #3B4455;\n",
              "      fill: #D2E3FC;\n",
              "    }\n",
              "\n",
              "    [theme=dark] .colab-df-convert:hover {\n",
              "      background-color: #434B5C;\n",
              "      box-shadow: 0px 1px 3px 1px rgba(0, 0, 0, 0.15);\n",
              "      filter: drop-shadow(0px 1px 2px rgba(0, 0, 0, 0.3));\n",
              "      fill: #FFFFFF;\n",
              "    }\n",
              "  </style>\n",
              "\n",
              "      <script>\n",
              "        const buttonEl =\n",
              "          document.querySelector('#df-8a7da5e2-dbad-4e9e-89d5-0eb7e9aae4ec button.colab-df-convert');\n",
              "        buttonEl.style.display =\n",
              "          google.colab.kernel.accessAllowed ? 'block' : 'none';\n",
              "\n",
              "        async function convertToInteractive(key) {\n",
              "          const element = document.querySelector('#df-8a7da5e2-dbad-4e9e-89d5-0eb7e9aae4ec');\n",
              "          const dataTable =\n",
              "            await google.colab.kernel.invokeFunction('convertToInteractive',\n",
              "                                                     [key], {});\n",
              "          if (!dataTable) return;\n",
              "\n",
              "          const docLinkHtml = 'Like what you see? Visit the ' +\n",
              "            '<a target=\"_blank\" href=https://colab.research.google.com/notebooks/data_table.ipynb>data table notebook</a>'\n",
              "            + ' to learn more about interactive tables.';\n",
              "          element.innerHTML = '';\n",
              "          dataTable['output_type'] = 'display_data';\n",
              "          await google.colab.output.renderOutput(dataTable, element);\n",
              "          const docLink = document.createElement('div');\n",
              "          docLink.innerHTML = docLinkHtml;\n",
              "          element.appendChild(docLink);\n",
              "        }\n",
              "      </script>\n",
              "    </div>\n",
              "  </div>\n",
              "  "
            ]
          },
          "metadata": {},
          "execution_count": 4
        }
      ],
      "source": [
        "train.head()"
      ]
    },
    {
      "cell_type": "markdown",
      "source": [
        "Define some columns label for separe numerical from categorical ones."
      ],
      "metadata": {
        "id": "etbHpqLFMebv"
      }
    },
    {
      "cell_type": "code",
      "execution_count": 44,
      "metadata": {
        "id": "-tdK4ddYmNCn"
      },
      "outputs": [],
      "source": [
        "target_cols = \"species\"\n",
        "num_cols = [\"bill_depth\", \"bill_length\", \"wing_length\", \"mass\"]\n",
        "cat_cols = [\"location\", \"sex\"]\n",
        "all_cols = num_cols + cat_cols + [target_cols]\n",
        "\n",
        "train = train[all_cols]"
      ]
    },
    {
      "cell_type": "markdown",
      "metadata": {
        "id": "6cHYc-CJmNCn"
      },
      "source": [
        "## Exploratory Data Analysis (EDA)\n"
      ]
    },
    {
      "cell_type": "code",
      "execution_count": 6,
      "metadata": {
        "colab": {
          "base_uri": "https://localhost:8080/"
        },
        "id": "0AtjBwsKmNCo",
        "outputId": "8a364072-c420-4bb7-9951-21d5d9f103f5"
      },
      "outputs": [
        {
          "output_type": "stream",
          "name": "stdout",
          "text": [
            "<class 'pandas.core.frame.DataFrame'>\n",
            "Int64Index: 435 entries, 0 to 434\n",
            "Data columns (total 7 columns):\n",
            " #   Column       Non-Null Count  Dtype  \n",
            "---  ------       --------------  -----  \n",
            " 0   bill_depth   434 non-null    float64\n",
            " 1   bill_length  295 non-null    float64\n",
            " 2   wing_length  298 non-null    float64\n",
            " 3   mass         433 non-null    float64\n",
            " 4   location     405 non-null    object \n",
            " 5   sex          379 non-null    float64\n",
            " 6   species      435 non-null    object \n",
            "dtypes: float64(5), object(2)\n",
            "memory usage: 27.2+ KB\n"
          ]
        }
      ],
      "source": [
        "train.info()"
      ]
    },
    {
      "cell_type": "markdown",
      "metadata": {
        "id": "2vtn0jbImNCo"
      },
      "source": [
        "### Numerical"
      ]
    },
    {
      "cell_type": "code",
      "execution_count": 7,
      "metadata": {
        "colab": {
          "base_uri": "https://localhost:8080/",
          "height": 827
        },
        "id": "8y9Q1R11mNCo",
        "outputId": "587c07f6-52ea-4285-b28f-6bb88f466d0a"
      },
      "outputs": [
        {
          "output_type": "display_data",
          "data": {
            "text/plain": [
              "<Figure size 1440x1008 with 4 Axes>"
            ],
            "image/png": "[encoded data removed]"
          },
          "metadata": {
            "needs_background": "light"
          }
        }
      ],
      "source": [
        "train[num_cols].hist(figsize=(20, 14));"
      ]
    },
    {
      "cell_type": "markdown",
      "metadata": {
        "id": "ojT0LF1MmNCo"
      },
      "source": [
        "Let's plot the histograms of the numerical variables.\n",
        "\n",
        "- bill_depth peaks around 15 and 19\n",
        "- bill length peaks around 39 and 47\n",
        "- wing length peaks around 190 and 216\n",
        "- mass is right skewed"
      ]
    },
    {
      "cell_type": "markdown",
      "metadata": {
        "id": "VfDQY23DmNCp"
      },
      "source": [
        "### Categorical"
      ]
    },
    {
      "cell_type": "code",
      "execution_count": 8,
      "metadata": {
        "colab": {
          "base_uri": "https://localhost:8080/",
          "height": 565
        },
        "id": "JPOb83GQmNCp",
        "outputId": "e42122d2-b939-4741-faa1-0cb6917786fb"
      },
      "outputs": [
        {
          "output_type": "display_data",
          "data": {
            "text/plain": [
              "<Figure size 2000x700 with 3 Axes>"
            ],
            "image/png": "[encoded data removed]"
          },
          "metadata": {
            "needs_background": "light"
          }
        }
      ],
      "source": [
        "to_plot = cat_cols + [target_cols]\n",
        "fig, axes = plt.subplots(1, 3, figsize=(20, 7), dpi=100)\n",
        "\n",
        "for i, col_name in enumerate(train[to_plot].columns):\n",
        "    sns.countplot(x = col_name, data = train, palette=\"Set1\", ax=axes[i % 3])\n",
        "    axes[i % 3].set_title(f\"{col_name}\", fontsize=13)\n",
        "    plt.subplots_adjust(hspace=0.45)"
      ]
    },
    {
      "cell_type": "markdown",
      "metadata": {
        "id": "1TBDvtKTmNCp"
      },
      "source": [
        "We see location and species seemingly matches for their respective locations and species (loc2 & species C, loc3 & species A). We also see there are slightly more female (1) birds the male counterpart."
      ]
    },
    {
      "cell_type": "code",
      "execution_count": 9,
      "metadata": {
        "colab": {
          "base_uri": "https://localhost:8080/"
        },
        "id": "twNjsHskmNCp",
        "outputId": "c7011efd-87b6-49c0-df64-9015ebeaef29"
      },
      "outputs": [
        {
          "output_type": "execute_result",
          "data": {
            "text/plain": [
              "C    182\n",
              "A    160\n",
              "B     93\n",
              "Name: species, dtype: int64"
            ]
          },
          "metadata": {},
          "execution_count": 9
        }
      ],
      "source": [
        "train.species.value_counts()"
      ]
    },
    {
      "cell_type": "markdown",
      "metadata": {
        "id": "0vvjstZomNCq"
      },
      "source": [
        "With a closer look, we see the target variable is imbalanced, where class B is almost 100 class lower than C, and around 70 lower than A.\n",
        "\n",
        "Imbalanced class is an issue because it biases the model. We need to resolve it later."
      ]
    },
    {
      "cell_type": "markdown",
      "metadata": {
        "id": "4z5bUlBTmNCq"
      },
      "source": [
        "## Missing Data"
      ]
    },
    {
      "cell_type": "markdown",
      "metadata": {
        "id": "vioJZR9mmNCq"
      },
      "source": [
        "### Percentages of missing values"
      ]
    },
    {
      "cell_type": "code",
      "execution_count": 10,
      "metadata": {
        "colab": {
          "base_uri": "https://localhost:8080/"
        },
        "id": "yFBJjucZmNCq",
        "outputId": "d8ab7744-f78c-4bd4-8bc6-ee6738e16a32"
      },
      "outputs": [
        {
          "output_type": "stream",
          "name": "stdout",
          "text": [
            "There are a total of 6 variables with missing values\n",
            "\n",
            "bill_length          => 32.184%\n",
            "wing_length          => 31.494%\n",
            "sex                  => 12.874%\n",
            "location             => 6.897%\n",
            "mass                 => 0.46%\n",
            "bill_depth           => 0.23%\n"
          ]
        }
      ],
      "source": [
        "missing_vals(train)"
      ]
    },
    {
      "cell_type": "markdown",
      "metadata": {
        "id": "onF8mP_OmNCq"
      },
      "source": [
        "With our helper function, we find out that bill_length and wing_length has over 30% of missing values"
      ]
    },
    {
      "cell_type": "markdown",
      "metadata": {
        "id": "KZB-dhBLmNCq"
      },
      "source": [
        "### Heatplot"
      ]
    },
    {
      "cell_type": "code",
      "execution_count": 11,
      "metadata": {
        "colab": {
          "base_uri": "https://localhost:8080/",
          "height": 377
        },
        "id": "NXEENVFPmNCq",
        "outputId": "a1af1acb-9d26-46ae-f74f-318195fbde51"
      },
      "outputs": [
        {
          "output_type": "display_data",
          "data": {
            "text/plain": [
              "<Figure size 720x432 with 1 Axes>"
            ],
            "image/png": "[encoded data removed]"
          },
          "metadata": {
            "needs_background": "light"
          }
        }
      ],
      "source": [
        "plt.figure(figsize=(10, 6))\n",
        "sns.heatmap(train.isnull(), yticklabels=False, cmap='viridis', cbar=False);"
      ]
    },
    {
      "cell_type": "markdown",
      "metadata": {
        "id": "z3DfuWQJmNCr"
      },
      "source": [
        "We can also plot a heatmap to visualize the missing values and see if there are any patterns"
      ]
    },
    {
      "cell_type": "markdown",
      "metadata": {
        "id": "qlG1KBTAmNCr"
      },
      "source": [
        "### Impute categorical columns"
      ]
    },
    {
      "cell_type": "markdown",
      "metadata": {
        "id": "v5MaaytHmNCr"
      },
      "source": [
        "let's first see how many missing variables are in our categorical variables"
      ]
    },
    {
      "cell_type": "code",
      "execution_count": 12,
      "metadata": {
        "colab": {
          "base_uri": "https://localhost:8080/"
        },
        "id": "fLo4KBvBmNCr",
        "outputId": "0eade4a5-a263-4212-eae0-43ed676004c6"
      },
      "outputs": [
        {
          "output_type": "execute_result",
          "data": {
            "text/plain": [
              "1.0    195\n",
              "0.0    184\n",
              "NaN     56\n",
              "Name: sex, dtype: int64"
            ]
          },
          "metadata": {},
          "execution_count": 12
        }
      ],
      "source": [
        "train.sex.value_counts(dropna=False)"
      ]
    },
    {
      "cell_type": "code",
      "execution_count": 13,
      "metadata": {
        "colab": {
          "base_uri": "https://localhost:8080/"
        },
        "id": "0sq_kBuKmNCr",
        "outputId": "afba042d-0e7f-477d-8021-5f5fa0f16375"
      },
      "outputs": [
        {
          "output_type": "execute_result",
          "data": {
            "text/plain": [
              "loc_2    181\n",
              "loc_3    141\n",
              "loc_1     83\n",
              "NaN       30\n",
              "Name: location, dtype: int64"
            ]
          },
          "metadata": {},
          "execution_count": 13
        }
      ],
      "source": [
        "train.location.value_counts(dropna=False)"
      ]
    },
    {
      "cell_type": "markdown",
      "metadata": {
        "id": "aDLaoD9xmNCr"
      },
      "source": [
        "Let's use the simple imputer to deal with them by replacing them with the most frequent value."
      ]
    },
    {
      "cell_type": "code",
      "execution_count": 14,
      "metadata": {
        "id": "bqhucOx9mNCs"
      },
      "outputs": [],
      "source": [
        "cat_imp = SimpleImputer(strategy=\"most_frequent\")\n",
        "\n",
        "train[cat_cols] = cat_imp.fit_transform(train[cat_cols])"
      ]
    },
    {
      "cell_type": "code",
      "execution_count": 15,
      "metadata": {
        "colab": {
          "base_uri": "https://localhost:8080/"
        },
        "id": "mpevLlPRmNCs",
        "outputId": "36a6ca5f-6138-4519-d81c-d9807440e039"
      },
      "outputs": [
        {
          "output_type": "execute_result",
          "data": {
            "text/plain": [
              "1.0    251\n",
              "0.0    184\n",
              "Name: sex, dtype: int64"
            ]
          },
          "metadata": {},
          "execution_count": 15
        }
      ],
      "source": [
        "train.sex.value_counts(dropna=False)"
      ]
    },
    {
      "cell_type": "markdown",
      "metadata": {
        "id": "y_LetNN4mNCs"
      },
      "source": [
        "As you can see, by the 'most_frequent' strategy, the missing values were imputed with 1.0, which was the most frequent."
      ]
    },
    {
      "cell_type": "markdown",
      "metadata": {
        "id": "4rcMkfNdmNCs"
      },
      "source": [
        "### Impute numerical columns"
      ]
    },
    {
      "cell_type": "markdown",
      "metadata": {
        "id": "3kd2h2GTmNCs"
      },
      "source": [
        "Let's use the median value to impute our numerical values"
      ]
    },
    {
      "cell_type": "code",
      "execution_count": 16,
      "metadata": {
        "id": "qwfKdBLxmNCs"
      },
      "outputs": [],
      "source": [
        "num_imp = SimpleImputer(strategy=\"median\")\n",
        "\n",
        "train[num_cols] = num_imp.fit_transform(train[num_cols])"
      ]
    },
    {
      "cell_type": "code",
      "execution_count": 17,
      "metadata": {
        "colab": {
          "base_uri": "https://localhost:8080/",
          "height": 35
        },
        "id": "Oxn1VZTLmNCs",
        "outputId": "cf5cdfec-458d-41f4-a3ac-2b1188c062aa"
      },
      "outputs": [
        {
          "output_type": "execute_result",
          "data": {
            "text/plain": [
              "'no missing values'"
            ],
            "application/vnd.google.colaboratory.intrinsic+json": {
              "type": "string"
            }
          },
          "metadata": {},
          "execution_count": 17
        }
      ],
      "source": [
        "missing_vals(train)"
      ]
    },
    {
      "cell_type": "markdown",
      "metadata": {
        "id": "hI1aLyhimNCt"
      },
      "source": [
        "## Feature Engineering"
      ]
    },
    {
      "cell_type": "code",
      "execution_count": 18,
      "metadata": {
        "colab": {
          "base_uri": "https://localhost:8080/"
        },
        "id": "suYnl7OXmNCt",
        "outputId": "bbd25275-e8c1-4ace-d7bc-30c17b2c42c0"
      },
      "outputs": [
        {
          "output_type": "execute_result",
          "data": {
            "text/plain": [
              "C    182\n",
              "A    160\n",
              "B     93\n",
              "Name: species, dtype: int64"
            ]
          },
          "metadata": {},
          "execution_count": 18
        }
      ],
      "source": [
        "train.species.value_counts()"
      ]
    },
    {
      "cell_type": "markdown",
      "metadata": {
        "id": "5ezu_bXHmNCt"
      },
      "source": [
        "### encode categorical variables"
      ]
    },
    {
      "cell_type": "markdown",
      "metadata": {
        "id": "GQHNXn08mNCt"
      },
      "source": [
        "\n",
        "Decide to encode the categorical variables into numerical ones beacuse most ML models can't use string values"
      ]
    },
    {
      "cell_type": "code",
      "execution_count": 19,
      "metadata": {
        "colab": {
          "base_uri": "https://localhost:8080/"
        },
        "id": "kK-jIx5cmNCt",
        "outputId": "fb9f97f5-423a-4e24-9037-f75de28166da"
      },
      "outputs": [
        {
          "output_type": "execute_result",
          "data": {
            "text/plain": [
              "{'A': 0, 'B': 1, 'C': 2}"
            ]
          },
          "metadata": {},
          "execution_count": 19
        }
      ],
      "source": [
        "le = LabelEncoder()\n",
        "le.fit(train['species'])\n",
        "le_name_map = dict(zip(le.classes_, le.transform(le.classes_)))\n",
        "le_name_map"
      ]
    },
    {
      "cell_type": "code",
      "execution_count": 20,
      "metadata": {
        "id": "HTTLlvQFmNCt"
      },
      "outputs": [],
      "source": [
        "train['species'] = le.fit_transform(train['species'])"
      ]
    },
    {
      "cell_type": "code",
      "execution_count": 21,
      "metadata": {
        "id": "ctOYmWBzmNCt"
      },
      "outputs": [],
      "source": [
        "for col in cat_cols:\n",
        "    if train[col].dtype == \"object\":\n",
        "        train[col] = le.fit_transform(train[col])"
      ]
    },
    {
      "cell_type": "code",
      "execution_count": 22,
      "metadata": {
        "colab": {
          "base_uri": "https://localhost:8080/",
          "height": 206
        },
        "id": "bXBC9ZUBmNCu",
        "outputId": "95cb3191-3469-47a4-fec1-a6b6f3a5ab22"
      },
      "outputs": [
        {
          "output_type": "execute_result",
          "data": {
            "text/plain": [
              "   bill_depth  bill_length  wing_length    mass  location  sex  species\n",
              "0   14.300000    48.200000   210.000000  4600.0         1    0        2\n",
              "1   14.400000    48.400000   203.000000  4625.0         1    0        2\n",
              "2   18.400000    47.500000   200.000000  3400.0         2    0        1\n",
              "3   14.982114    47.504878   199.000000  4800.0         1    0        2\n",
              "4   18.982114    38.259307   217.186992  5200.0         2    0        2"
            ],
            "text/html": [
              "\n",
              "  <div id=\"df-3d0ca92c-2c04-4003-8b37-2d37e6545a13\">\n",
              "    <div class=\"colab-df-container\">\n",
              "      <div>\n",
              "<style scoped>\n",
              "    .dataframe tbody tr th:only-of-type {\n",
              "        vertical-align: middle;\n",
              "    }\n",
              "\n",
              "    .dataframe tbody tr th {\n",
              "        vertical-align: top;\n",
              "    }\n",
              "\n",
              "    .dataframe thead th {\n",
              "        text-align: right;\n",
              "    }\n",
              "</style>\n",
              "<table border=\"1\" class=\"dataframe\">\n",
              "  <thead>\n",
              "    <tr style=\"text-align: right;\">\n",
              "      <th></th>\n",
              "      <th>bill_depth</th>\n",
              "      <th>bill_length</th>\n",
              "      <th>wing_length</th>\n",
              "      <th>mass</th>\n",
              "      <th>location</th>\n",
              "      <th>sex</th>\n",
              "      <th>species</th>\n",
              "    </tr>\n",
              "  </thead>\n",
              "  <tbody>\n",
              "    <tr>\n",
              "      <th>0</th>\n",
              "      <td>14.300000</td>\n",
              "      <td>48.200000</td>\n",
              "      <td>210.000000</td>\n",
              "      <td>4600.0</td>\n",
              "      <td>1</td>\n",
              "      <td>0</td>\n",
              "      <td>2</td>\n",
              "    </tr>\n",
              "    <tr>\n",
              "      <th>1</th>\n",
              "      <td>14.400000</td>\n",
              "      <td>48.400000</td>\n",
              "      <td>203.000000</td>\n",
              "      <td>4625.0</td>\n",
              "      <td>1</td>\n",
              "      <td>0</td>\n",
              "      <td>2</td>\n",
              "    </tr>\n",
              "    <tr>\n",
              "      <th>2</th>\n",
              "      <td>18.400000</td>\n",
              "      <td>47.500000</td>\n",
              "      <td>200.000000</td>\n",
              "      <td>3400.0</td>\n",
              "      <td>2</td>\n",
              "      <td>0</td>\n",
              "      <td>1</td>\n",
              "    </tr>\n",
              "    <tr>\n",
              "      <th>3</th>\n",
              "      <td>14.982114</td>\n",
              "      <td>47.504878</td>\n",
              "      <td>199.000000</td>\n",
              "      <td>4800.0</td>\n",
              "      <td>1</td>\n",
              "      <td>0</td>\n",
              "      <td>2</td>\n",
              "    </tr>\n",
              "    <tr>\n",
              "      <th>4</th>\n",
              "      <td>18.982114</td>\n",
              "      <td>38.259307</td>\n",
              "      <td>217.186992</td>\n",
              "      <td>5200.0</td>\n",
              "      <td>2</td>\n",
              "      <td>0</td>\n",
              "      <td>2</td>\n",
              "    </tr>\n",
              "  </tbody>\n",
              "</table>\n",
              "</div>\n",
              "      <button class=\"colab-df-convert\" onclick=\"convertToInteractive('df-3d0ca92c-2c04-4003-8b37-2d37e6545a13')\"\n",
              "              title=\"Convert this dataframe to an interactive table.\"\n",
              "              style=\"display:none;\">\n",
              "        \n",
              "  <svg xmlns=\"http://www.w3.org/2000/svg\" height=\"24px\"viewBox=\"0 0 24 24\"\n",
              "       width=\"24px\">\n",
              "    <path d=\"M0 0h24v24H0V0z\" fill=\"none\"/>\n",
              "    <path d=\"M18.56 5.44l.94 2.06.94-2.06 2.06-.94-2.06-.94-.94-2.06-.94 2.06-2.06.94zm-11 1L8.5 8.5l.94-2.06 2.06-.94-2.06-.94L8.5 2.5l-.94 2.06-2.06.94zm10 10l.94 2.06.94-2.06 2.06-.94-2.06-.94-.94-2.06-.94 2.06-2.06.94z\"/><path d=\"M17.41 7.96l-1.37-1.37c-.4-.4-.92-.59-1.43-.59-.52 0-1.04.2-1.43.59L10.3 9.45l-7.72 7.72c-.78.78-.78 2.05 0 2.83L4 21.41c.39.39.9.59 1.41.59.51 0 1.02-.2 1.41-.59l7.78-7.78 2.81-2.81c.8-.78.8-2.07 0-2.86zM5.41 20L4 18.59l7.72-7.72 1.47 1.35L5.41 20z\"/>\n",
              "  </svg>\n",
              "      </button>\n",
              "      \n",
              "  <style>\n",
              "    .colab-df-container {\n",
              "      display:flex;\n",
              "      flex-wrap:wrap;\n",
              "      gap: 12px;\n",
              "    }\n",
              "\n",
              "    .colab-df-convert {\n",
              "      background-color: #E8F0FE;\n",
              "      border: none;\n",
              "      border-radius: 50%;\n",
              "      cursor: pointer;\n",
              "      display: none;\n",
              "      fill: #1967D2;\n",
              "      height: 32px;\n",
              "      padding: 0 0 0 0;\n",
              "      width: 32px;\n",
              "    }\n",
              "\n",
              "    .colab-df-convert:hover {\n",
              "      background-color: #E2EBFA;\n",
              "      box-shadow: 0px 1px 2px rgba(60, 64, 67, 0.3), 0px 1px 3px 1px rgba(60, 64, 67, 0.15);\n",
              "      fill: #174EA6;\n",
              "    }\n",
              "\n",
              "    [theme=dark] .colab-df-convert {\n",
              "      background-color: #3B4455;\n",
              "      fill: #D2E3FC;\n",
              "    }\n",
              "\n",
              "    [theme=dark] .colab-df-convert:hover {\n",
              "      background-color: #434B5C;\n",
              "      box-shadow: 0px 1px 3px 1px rgba(0, 0, 0, 0.15);\n",
              "      filter: drop-shadow(0px 1px 2px rgba(0, 0, 0, 0.3));\n",
              "      fill: #FFFFFF;\n",
              "    }\n",
              "  </style>\n",
              "\n",
              "      <script>\n",
              "        const buttonEl =\n",
              "          document.querySelector('#df-3d0ca92c-2c04-4003-8b37-2d37e6545a13 button.colab-df-convert');\n",
              "        buttonEl.style.display =\n",
              "          google.colab.kernel.accessAllowed ? 'block' : 'none';\n",
              "\n",
              "        async function convertToInteractive(key) {\n",
              "          const element = document.querySelector('#df-3d0ca92c-2c04-4003-8b37-2d37e6545a13');\n",
              "          const dataTable =\n",
              "            await google.colab.kernel.invokeFunction('convertToInteractive',\n",
              "                                                     [key], {});\n",
              "          if (!dataTable) return;\n",
              "\n",
              "          const docLinkHtml = 'Like what you see? Visit the ' +\n",
              "            '<a target=\"_blank\" href=https://colab.research.google.com/notebooks/data_table.ipynb>data table notebook</a>'\n",
              "            + ' to learn more about interactive tables.';\n",
              "          element.innerHTML = '';\n",
              "          dataTable['output_type'] = 'display_data';\n",
              "          await google.colab.output.renderOutput(dataTable, element);\n",
              "          const docLink = document.createElement('div');\n",
              "          docLink.innerHTML = docLinkHtml;\n",
              "          element.appendChild(docLink);\n",
              "        }\n",
              "      </script>\n",
              "    </div>\n",
              "  </div>\n",
              "  "
            ]
          },
          "metadata": {},
          "execution_count": 22
        }
      ],
      "source": [
        "train.head()"
      ]
    },
    {
      "cell_type": "code",
      "execution_count": 23,
      "metadata": {
        "id": "7tQ_KMDamNCu"
      },
      "outputs": [],
      "source": [
        "# Convert cat_features to pd.Categorical dtype\n",
        "for col in cat_cols:\n",
        "    train[col] = pd.Categorical(train[col])"
      ]
    },
    {
      "cell_type": "code",
      "execution_count": 24,
      "metadata": {
        "colab": {
          "base_uri": "https://localhost:8080/"
        },
        "id": "CUDsMGOQmNCu",
        "outputId": "91ceaa7a-c281-4714-a872-f9d062d0a9f9"
      },
      "outputs": [
        {
          "output_type": "execute_result",
          "data": {
            "text/plain": [
              "bill_depth      float64\n",
              "bill_length     float64\n",
              "wing_length     float64\n",
              "mass            float64\n",
              "location       category\n",
              "sex            category\n",
              "species           int64\n",
              "dtype: object"
            ]
          },
          "metadata": {},
          "execution_count": 24
        }
      ],
      "source": [
        "train.dtypes"
      ]
    },
    {
      "cell_type": "markdown",
      "source": [
        "## Apply Z-score to features"
      ],
      "metadata": {
        "id": "m0yhwGOoo4Oc"
      }
    },
    {
      "cell_type": "code",
      "source": [
        "for col in num_cols:\n",
        "    col_zscore = col + '_zscore'\n",
        "    train[col_zscore] = (train[col] - train[col].mean())/train[col].std(ddof=0)\n",
        "\n",
        "train"
      ],
      "metadata": {
        "colab": {
          "base_uri": "https://localhost:8080/",
          "height": 424
        },
        "id": "ZQdjeoeXo7z1",
        "outputId": "c266a7ad-3458-4cbd-b1cc-a9c47ecafa2c"
      },
      "execution_count": 25,
      "outputs": [
        {
          "output_type": "execute_result",
          "data": {
            "text/plain": [
              "     bill_depth  bill_length  wing_length    mass location sex  species  \\\n",
              "0     14.300000    48.200000   210.000000  4600.0        1   0        2   \n",
              "1     14.400000    48.400000   203.000000  4625.0        1   0        2   \n",
              "2     18.400000    47.500000   200.000000  3400.0        2   0        1   \n",
              "3     14.982114    47.504878   199.000000  4800.0        1   0        2   \n",
              "4     18.982114    38.259307   217.186992  5200.0        2   0        2   \n",
              "..          ...          ...          ...     ...      ...  ..      ...   \n",
              "430   17.000000    48.833824   196.000000  3500.0        1   1        1   \n",
              "431   17.100000    47.500000   193.000000  3400.0        2   0        0   \n",
              "432   19.400000    47.500000   199.000000  3900.0        0   1        0   \n",
              "433   16.600000    55.512336   187.000000  2900.0        1   1        1   \n",
              "434   18.900000    47.500000   199.000000  4300.0        2   1        0   \n",
              "\n",
              "     bill_depth_zscore  bill_length_zscore  wing_length_zscore  mass_zscore  \n",
              "0            -1.544327            0.381373            0.756869     0.391531  \n",
              "1            -1.492785            0.428951            0.127986     0.423153  \n",
              "2             0.568894            0.214851           -0.141535    -1.126323  \n",
              "3            -1.192752            0.216012           -0.231375     0.644506  \n",
              "4             0.868927           -1.983402            1.402552     1.150458  \n",
              "..                 ...                 ...                 ...          ...  \n",
              "430          -0.152693            0.532153           -0.500897    -0.999835  \n",
              "431          -0.101152            0.214851           -0.770418    -1.126323  \n",
              "432           1.084314            0.214851           -0.231375    -0.493884  \n",
              "433          -0.358861            2.120893           -1.309461    -1.758762  \n",
              "434           0.826604            0.214851           -0.231375     0.012067  \n",
              "\n",
              "[435 rows x 11 columns]"
            ],
            "text/html": [
              "\n",
              "  <div id=\"df-b28e0b41-ed5d-489c-baec-812dae3f64b4\">\n",
              "    <div class=\"colab-df-container\">\n",
              "      <div>\n",
              "<style scoped>\n",
              "    .dataframe tbody tr th:only-of-type {\n",
              "        vertical-align: middle;\n",
              "    }\n",
              "\n",
              "    .dataframe tbody tr th {\n",
              "        vertical-align: top;\n",
              "    }\n",
              "\n",
              "    .dataframe thead th {\n",
              "        text-align: right;\n",
              "    }\n",
              "</style>\n",
              "<table border=\"1\" class=\"dataframe\">\n",
              "  <thead>\n",
              "    <tr style=\"text-align: right;\">\n",
              "      <th></th>\n",
              "      <th>bill_depth</th>\n",
              "      <th>bill_length</th>\n",
              "      <th>wing_length</th>\n",
              "      <th>mass</th>\n",
              "      <th>location</th>\n",
              "      <th>sex</th>\n",
              "      <th>species</th>\n",
              "      <th>bill_depth_zscore</th>\n",
              "      <th>bill_length_zscore</th>\n",
              "      <th>wing_length_zscore</th>\n",
              "      <th>mass_zscore</th>\n",
              "    </tr>\n",
              "  </thead>\n",
              "  <tbody>\n",
              "    <tr>\n",
              "      <th>0</th>\n",
              "      <td>14.300000</td>\n",
              "      <td>48.200000</td>\n",
              "      <td>210.000000</td>\n",
              "      <td>4600.0</td>\n",
              "      <td>1</td>\n",
              "      <td>0</td>\n",
              "      <td>2</td>\n",
              "      <td>-1.544327</td>\n",
              "      <td>0.381373</td>\n",
              "      <td>0.756869</td>\n",
              "      <td>0.391531</td>\n",
              "    </tr>\n",
              "    <tr>\n",
              "      <th>1</th>\n",
              "      <td>14.400000</td>\n",
              "      <td>48.400000</td>\n",
              "      <td>203.000000</td>\n",
              "      <td>4625.0</td>\n",
              "      <td>1</td>\n",
              "      <td>0</td>\n",
              "      <td>2</td>\n",
              "      <td>-1.492785</td>\n",
              "      <td>0.428951</td>\n",
              "      <td>0.127986</td>\n",
              "      <td>0.423153</td>\n",
              "    </tr>\n",
              "    <tr>\n",
              "      <th>2</th>\n",
              "      <td>18.400000</td>\n",
              "      <td>47.500000</td>\n",
              "      <td>200.000000</td>\n",
              "      <td>3400.0</td>\n",
              "      <td>2</td>\n",
              "      <td>0</td>\n",
              "      <td>1</td>\n",
              "      <td>0.568894</td>\n",
              "      <td>0.214851</td>\n",
              "      <td>-0.141535</td>\n",
              "      <td>-1.126323</td>\n",
              "    </tr>\n",
              "    <tr>\n",
              "      <th>3</th>\n",
              "      <td>14.982114</td>\n",
              "      <td>47.504878</td>\n",
              "      <td>199.000000</td>\n",
              "      <td>4800.0</td>\n",
              "      <td>1</td>\n",
              "      <td>0</td>\n",
              "      <td>2</td>\n",
              "      <td>-1.192752</td>\n",
              "      <td>0.216012</td>\n",
              "      <td>-0.231375</td>\n",
              "      <td>0.644506</td>\n",
              "    </tr>\n",
              "    <tr>\n",
              "      <th>4</th>\n",
              "      <td>18.982114</td>\n",
              "      <td>38.259307</td>\n",
              "      <td>217.186992</td>\n",
              "      <td>5200.0</td>\n",
              "      <td>2</td>\n",
              "      <td>0</td>\n",
              "      <td>2</td>\n",
              "      <td>0.868927</td>\n",
              "      <td>-1.983402</td>\n",
              "      <td>1.402552</td>\n",
              "      <td>1.150458</td>\n",
              "    </tr>\n",
              "    <tr>\n",
              "      <th>...</th>\n",
              "      <td>...</td>\n",
              "      <td>...</td>\n",
              "      <td>...</td>\n",
              "      <td>...</td>\n",
              "      <td>...</td>\n",
              "      <td>...</td>\n",
              "      <td>...</td>\n",
              "      <td>...</td>\n",
              "      <td>...</td>\n",
              "      <td>...</td>\n",
              "      <td>...</td>\n",
              "    </tr>\n",
              "    <tr>\n",
              "      <th>430</th>\n",
              "      <td>17.000000</td>\n",
              "      <td>48.833824</td>\n",
              "      <td>196.000000</td>\n",
              "      <td>3500.0</td>\n",
              "      <td>1</td>\n",
              "      <td>1</td>\n",
              "      <td>1</td>\n",
              "      <td>-0.152693</td>\n",
              "      <td>0.532153</td>\n",
              "      <td>-0.500897</td>\n",
              "      <td>-0.999835</td>\n",
              "    </tr>\n",
              "    <tr>\n",
              "      <th>431</th>\n",
              "      <td>17.100000</td>\n",
              "      <td>47.500000</td>\n",
              "      <td>193.000000</td>\n",
              "      <td>3400.0</td>\n",
              "      <td>2</td>\n",
              "      <td>0</td>\n",
              "      <td>0</td>\n",
              "      <td>-0.101152</td>\n",
              "      <td>0.214851</td>\n",
              "      <td>-0.770418</td>\n",
              "      <td>-1.126323</td>\n",
              "    </tr>\n",
              "    <tr>\n",
              "      <th>432</th>\n",
              "      <td>19.400000</td>\n",
              "      <td>47.500000</td>\n",
              "      <td>199.000000</td>\n",
              "      <td>3900.0</td>\n",
              "      <td>0</td>\n",
              "      <td>1</td>\n",
              "      <td>0</td>\n",
              "      <td>1.084314</td>\n",
              "      <td>0.214851</td>\n",
              "      <td>-0.231375</td>\n",
              "      <td>-0.493884</td>\n",
              "    </tr>\n",
              "    <tr>\n",
              "      <th>433</th>\n",
              "      <td>16.600000</td>\n",
              "      <td>55.512336</td>\n",
              "      <td>187.000000</td>\n",
              "      <td>2900.0</td>\n",
              "      <td>1</td>\n",
              "      <td>1</td>\n",
              "      <td>1</td>\n",
              "      <td>-0.358861</td>\n",
              "      <td>2.120893</td>\n",
              "      <td>-1.309461</td>\n",
              "      <td>-1.758762</td>\n",
              "    </tr>\n",
              "    <tr>\n",
              "      <th>434</th>\n",
              "      <td>18.900000</td>\n",
              "      <td>47.500000</td>\n",
              "      <td>199.000000</td>\n",
              "      <td>4300.0</td>\n",
              "      <td>2</td>\n",
              "      <td>1</td>\n",
              "      <td>0</td>\n",
              "      <td>0.826604</td>\n",
              "      <td>0.214851</td>\n",
              "      <td>-0.231375</td>\n",
              "      <td>0.012067</td>\n",
              "    </tr>\n",
              "  </tbody>\n",
              "</table>\n",
              "<p>435 rows × 11 columns</p>\n",
              "</div>\n",
              "      <button class=\"colab-df-convert\" onclick=\"convertToInteractive('df-b28e0b41-ed5d-489c-baec-812dae3f64b4')\"\n",
              "              title=\"Convert this dataframe to an interactive table.\"\n",
              "              style=\"display:none;\">\n",
              "        \n",
              "  <svg xmlns=\"http://www.w3.org/2000/svg\" height=\"24px\"viewBox=\"0 0 24 24\"\n",
              "       width=\"24px\">\n",
              "    <path d=\"M0 0h24v24H0V0z\" fill=\"none\"/>\n",
              "    <path d=\"M18.56 5.44l.94 2.06.94-2.06 2.06-.94-2.06-.94-.94-2.06-.94 2.06-2.06.94zm-11 1L8.5 8.5l.94-2.06 2.06-.94-2.06-.94L8.5 2.5l-.94 2.06-2.06.94zm10 10l.94 2.06.94-2.06 2.06-.94-2.06-.94-.94-2.06-.94 2.06-2.06.94z\"/><path d=\"M17.41 7.96l-1.37-1.37c-.4-.4-.92-.59-1.43-.59-.52 0-1.04.2-1.43.59L10.3 9.45l-7.72 7.72c-.78.78-.78 2.05 0 2.83L4 21.41c.39.39.9.59 1.41.59.51 0 1.02-.2 1.41-.59l7.78-7.78 2.81-2.81c.8-.78.8-2.07 0-2.86zM5.41 20L4 18.59l7.72-7.72 1.47 1.35L5.41 20z\"/>\n",
              "  </svg>\n",
              "      </button>\n",
              "      \n",
              "  <style>\n",
              "    .colab-df-container {\n",
              "      display:flex;\n",
              "      flex-wrap:wrap;\n",
              "      gap: 12px;\n",
              "    }\n",
              "\n",
              "    .colab-df-convert {\n",
              "      background-color: #E8F0FE;\n",
              "      border: none;\n",
              "      border-radius: 50%;\n",
              "      cursor: pointer;\n",
              "      display: none;\n",
              "      fill: #1967D2;\n",
              "      height: 32px;\n",
              "      padding: 0 0 0 0;\n",
              "      width: 32px;\n",
              "    }\n",
              "\n",
              "    .colab-df-convert:hover {\n",
              "      background-color: #E2EBFA;\n",
              "      box-shadow: 0px 1px 2px rgba(60, 64, 67, 0.3), 0px 1px 3px 1px rgba(60, 64, 67, 0.15);\n",
              "      fill: #174EA6;\n",
              "    }\n",
              "\n",
              "    [theme=dark] .colab-df-convert {\n",
              "      background-color: #3B4455;\n",
              "      fill: #D2E3FC;\n",
              "    }\n",
              "\n",
              "    [theme=dark] .colab-df-convert:hover {\n",
              "      background-color: #434B5C;\n",
              "      box-shadow: 0px 1px 3px 1px rgba(0, 0, 0, 0.15);\n",
              "      filter: drop-shadow(0px 1px 2px rgba(0, 0, 0, 0.3));\n",
              "      fill: #FFFFFF;\n",
              "    }\n",
              "  </style>\n",
              "\n",
              "      <script>\n",
              "        const buttonEl =\n",
              "          document.querySelector('#df-b28e0b41-ed5d-489c-baec-812dae3f64b4 button.colab-df-convert');\n",
              "        buttonEl.style.display =\n",
              "          google.colab.kernel.accessAllowed ? 'block' : 'none';\n",
              "\n",
              "        async function convertToInteractive(key) {\n",
              "          const element = document.querySelector('#df-b28e0b41-ed5d-489c-baec-812dae3f64b4');\n",
              "          const dataTable =\n",
              "            await google.colab.kernel.invokeFunction('convertToInteractive',\n",
              "                                                     [key], {});\n",
              "          if (!dataTable) return;\n",
              "\n",
              "          const docLinkHtml = 'Like what you see? Visit the ' +\n",
              "            '<a target=\"_blank\" href=https://colab.research.google.com/notebooks/data_table.ipynb>data table notebook</a>'\n",
              "            + ' to learn more about interactive tables.';\n",
              "          element.innerHTML = '';\n",
              "          dataTable['output_type'] = 'display_data';\n",
              "          await google.colab.output.renderOutput(dataTable, element);\n",
              "          const docLink = document.createElement('div');\n",
              "          docLink.innerHTML = docLinkHtml;\n",
              "          element.appendChild(docLink);\n",
              "        }\n",
              "      </script>\n",
              "    </div>\n",
              "  </div>\n",
              "  "
            ]
          },
          "metadata": {},
          "execution_count": 25
        }
      ]
    },
    {
      "cell_type": "code",
      "source": [
        "missing_vals(train)"
      ],
      "metadata": {
        "colab": {
          "base_uri": "https://localhost:8080/",
          "height": 35
        },
        "id": "q_S4NU-3qSWs",
        "outputId": "314a6bb7-e270-44bd-d9d6-db1f8cc8c711"
      },
      "execution_count": 26,
      "outputs": [
        {
          "output_type": "execute_result",
          "data": {
            "text/plain": [
              "'no missing values'"
            ],
            "application/vnd.google.colaboratory.intrinsic+json": {
              "type": "string"
            }
          },
          "metadata": {},
          "execution_count": 26
        }
      ]
    },
    {
      "cell_type": "markdown",
      "metadata": {
        "id": "teOGwXUXmNCu"
      },
      "source": [
        "## Creating new features"
      ]
    },
    {
      "cell_type": "markdown",
      "source": [
        "Make some data augmentation adding some new features that can help the classifier."
      ],
      "metadata": {
        "id": "vFdZACVjOHOQ"
      }
    },
    {
      "cell_type": "code",
      "execution_count": 27,
      "metadata": {
        "id": "IHqyst-omNCu"
      },
      "outputs": [],
      "source": [
        "train['b_depth_length_ratio'] = train['bill_depth'] / train['bill_length']\n",
        "train['b_length_depth_ratio'] = train['bill_length'] / train['bill_depth']\n",
        "train['w_length_mass_ratio'] = train['wing_length'] / train['mass']"
      ]
    },
    {
      "cell_type": "code",
      "execution_count": 28,
      "metadata": {
        "colab": {
          "base_uri": "https://localhost:8080/",
          "height": 270
        },
        "id": "ydOhbyvAmNCu",
        "outputId": "224d0b5b-5573-414d-a2fc-5701b93e1456"
      },
      "outputs": [
        {
          "output_type": "execute_result",
          "data": {
            "text/plain": [
              "   bill_depth  bill_length  wing_length    mass location sex  species  \\\n",
              "0   14.300000    48.200000   210.000000  4600.0        1   0        2   \n",
              "1   14.400000    48.400000   203.000000  4625.0        1   0        2   \n",
              "2   18.400000    47.500000   200.000000  3400.0        2   0        1   \n",
              "3   14.982114    47.504878   199.000000  4800.0        1   0        2   \n",
              "4   18.982114    38.259307   217.186992  5200.0        2   0        2   \n",
              "\n",
              "   bill_depth_zscore  bill_length_zscore  wing_length_zscore  mass_zscore  \\\n",
              "0          -1.544327            0.381373            0.756869     0.391531   \n",
              "1          -1.492785            0.428951            0.127986     0.423153   \n",
              "2           0.568894            0.214851           -0.141535    -1.126323   \n",
              "3          -1.192752            0.216012           -0.231375     0.644506   \n",
              "4           0.868927           -1.983402            1.402552     1.150458   \n",
              "\n",
              "   b_depth_length_ratio  b_length_depth_ratio  w_length_mass_ratio  \n",
              "0              0.296680              3.370629             0.045652  \n",
              "1              0.297521              3.361111             0.043892  \n",
              "2              0.387368              2.581522             0.058824  \n",
              "3              0.315381              3.170773             0.041458  \n",
              "4              0.496144              2.015545             0.041767  "
            ],
            "text/html": [
              "\n",
              "  <div id=\"df-220d4bee-e066-4064-950d-4a9c0916c552\">\n",
              "    <div class=\"colab-df-container\">\n",
              "      <div>\n",
              "<style scoped>\n",
              "    .dataframe tbody tr th:only-of-type {\n",
              "        vertical-align: middle;\n",
              "    }\n",
              "\n",
              "    .dataframe tbody tr th {\n",
              "        vertical-align: top;\n",
              "    }\n",
              "\n",
              "    .dataframe thead th {\n",
              "        text-align: right;\n",
              "    }\n",
              "</style>\n",
              "<table border=\"1\" class=\"dataframe\">\n",
              "  <thead>\n",
              "    <tr style=\"text-align: right;\">\n",
              "      <th></th>\n",
              "      <th>bill_depth</th>\n",
              "      <th>bill_length</th>\n",
              "      <th>wing_length</th>\n",
              "      <th>mass</th>\n",
              "      <th>location</th>\n",
              "      <th>sex</th>\n",
              "      <th>species</th>\n",
              "      <th>bill_depth_zscore</th>\n",
              "      <th>bill_length_zscore</th>\n",
              "      <th>wing_length_zscore</th>\n",
              "      <th>mass_zscore</th>\n",
              "      <th>b_depth_length_ratio</th>\n",
              "      <th>b_length_depth_ratio</th>\n",
              "      <th>w_length_mass_ratio</th>\n",
              "    </tr>\n",
              "  </thead>\n",
              "  <tbody>\n",
              "    <tr>\n",
              "      <th>0</th>\n",
              "      <td>14.300000</td>\n",
              "      <td>48.200000</td>\n",
              "      <td>210.000000</td>\n",
              "      <td>4600.0</td>\n",
              "      <td>1</td>\n",
              "      <td>0</td>\n",
              "      <td>2</td>\n",
              "      <td>-1.544327</td>\n",
              "      <td>0.381373</td>\n",
              "      <td>0.756869</td>\n",
              "      <td>0.391531</td>\n",
              "      <td>0.296680</td>\n",
              "      <td>3.370629</td>\n",
              "      <td>0.045652</td>\n",
              "    </tr>\n",
              "    <tr>\n",
              "      <th>1</th>\n",
              "      <td>14.400000</td>\n",
              "      <td>48.400000</td>\n",
              "      <td>203.000000</td>\n",
              "      <td>4625.0</td>\n",
              "      <td>1</td>\n",
              "      <td>0</td>\n",
              "      <td>2</td>\n",
              "      <td>-1.492785</td>\n",
              "      <td>0.428951</td>\n",
              "      <td>0.127986</td>\n",
              "      <td>0.423153</td>\n",
              "      <td>0.297521</td>\n",
              "      <td>3.361111</td>\n",
              "      <td>0.043892</td>\n",
              "    </tr>\n",
              "    <tr>\n",
              "      <th>2</th>\n",
              "      <td>18.400000</td>\n",
              "      <td>47.500000</td>\n",
              "      <td>200.000000</td>\n",
              "      <td>3400.0</td>\n",
              "      <td>2</td>\n",
              "      <td>0</td>\n",
              "      <td>1</td>\n",
              "      <td>0.568894</td>\n",
              "      <td>0.214851</td>\n",
              "      <td>-0.141535</td>\n",
              "      <td>-1.126323</td>\n",
              "      <td>0.387368</td>\n",
              "      <td>2.581522</td>\n",
              "      <td>0.058824</td>\n",
              "    </tr>\n",
              "    <tr>\n",
              "      <th>3</th>\n",
              "      <td>14.982114</td>\n",
              "      <td>47.504878</td>\n",
              "      <td>199.000000</td>\n",
              "      <td>4800.0</td>\n",
              "      <td>1</td>\n",
              "      <td>0</td>\n",
              "      <td>2</td>\n",
              "      <td>-1.192752</td>\n",
              "      <td>0.216012</td>\n",
              "      <td>-0.231375</td>\n",
              "      <td>0.644506</td>\n",
              "      <td>0.315381</td>\n",
              "      <td>3.170773</td>\n",
              "      <td>0.041458</td>\n",
              "    </tr>\n",
              "    <tr>\n",
              "      <th>4</th>\n",
              "      <td>18.982114</td>\n",
              "      <td>38.259307</td>\n",
              "      <td>217.186992</td>\n",
              "      <td>5200.0</td>\n",
              "      <td>2</td>\n",
              "      <td>0</td>\n",
              "      <td>2</td>\n",
              "      <td>0.868927</td>\n",
              "      <td>-1.983402</td>\n",
              "      <td>1.402552</td>\n",
              "      <td>1.150458</td>\n",
              "      <td>0.496144</td>\n",
              "      <td>2.015545</td>\n",
              "      <td>0.041767</td>\n",
              "    </tr>\n",
              "  </tbody>\n",
              "</table>\n",
              "</div>\n",
              "      <button class=\"colab-df-convert\" onclick=\"convertToInteractive('df-220d4bee-e066-4064-950d-4a9c0916c552')\"\n",
              "              title=\"Convert this dataframe to an interactive table.\"\n",
              "              style=\"display:none;\">\n",
              "        \n",
              "  <svg xmlns=\"http://www.w3.org/2000/svg\" height=\"24px\"viewBox=\"0 0 24 24\"\n",
              "       width=\"24px\">\n",
              "    <path d=\"M0 0h24v24H0V0z\" fill=\"none\"/>\n",
              "    <path d=\"M18.56 5.44l.94 2.06.94-2.06 2.06-.94-2.06-.94-.94-2.06-.94 2.06-2.06.94zm-11 1L8.5 8.5l.94-2.06 2.06-.94-2.06-.94L8.5 2.5l-.94 2.06-2.06.94zm10 10l.94 2.06.94-2.06 2.06-.94-2.06-.94-.94-2.06-.94 2.06-2.06.94z\"/><path d=\"M17.41 7.96l-1.37-1.37c-.4-.4-.92-.59-1.43-.59-.52 0-1.04.2-1.43.59L10.3 9.45l-7.72 7.72c-.78.78-.78 2.05 0 2.83L4 21.41c.39.39.9.59 1.41.59.51 0 1.02-.2 1.41-.59l7.78-7.78 2.81-2.81c.8-.78.8-2.07 0-2.86zM5.41 20L4 18.59l7.72-7.72 1.47 1.35L5.41 20z\"/>\n",
              "  </svg>\n",
              "      </button>\n",
              "      \n",
              "  <style>\n",
              "    .colab-df-container {\n",
              "      display:flex;\n",
              "      flex-wrap:wrap;\n",
              "      gap: 12px;\n",
              "    }\n",
              "\n",
              "    .colab-df-convert {\n",
              "      background-color: #E8F0FE;\n",
              "      border: none;\n",
              "      border-radius: 50%;\n",
              "      cursor: pointer;\n",
              "      display: none;\n",
              "      fill: #1967D2;\n",
              "      height: 32px;\n",
              "      padding: 0 0 0 0;\n",
              "      width: 32px;\n",
              "    }\n",
              "\n",
              "    .colab-df-convert:hover {\n",
              "      background-color: #E2EBFA;\n",
              "      box-shadow: 0px 1px 2px rgba(60, 64, 67, 0.3), 0px 1px 3px 1px rgba(60, 64, 67, 0.15);\n",
              "      fill: #174EA6;\n",
              "    }\n",
              "\n",
              "    [theme=dark] .colab-df-convert {\n",
              "      background-color: #3B4455;\n",
              "      fill: #D2E3FC;\n",
              "    }\n",
              "\n",
              "    [theme=dark] .colab-df-convert:hover {\n",
              "      background-color: #434B5C;\n",
              "      box-shadow: 0px 1px 3px 1px rgba(0, 0, 0, 0.15);\n",
              "      filter: drop-shadow(0px 1px 2px rgba(0, 0, 0, 0.3));\n",
              "      fill: #FFFFFF;\n",
              "    }\n",
              "  </style>\n",
              "\n",
              "      <script>\n",
              "        const buttonEl =\n",
              "          document.querySelector('#df-220d4bee-e066-4064-950d-4a9c0916c552 button.colab-df-convert');\n",
              "        buttonEl.style.display =\n",
              "          google.colab.kernel.accessAllowed ? 'block' : 'none';\n",
              "\n",
              "        async function convertToInteractive(key) {\n",
              "          const element = document.querySelector('#df-220d4bee-e066-4064-950d-4a9c0916c552');\n",
              "          const dataTable =\n",
              "            await google.colab.kernel.invokeFunction('convertToInteractive',\n",
              "                                                     [key], {});\n",
              "          if (!dataTable) return;\n",
              "\n",
              "          const docLinkHtml = 'Like what you see? Visit the ' +\n",
              "            '<a target=\"_blank\" href=https://colab.research.google.com/notebooks/data_table.ipynb>data table notebook</a>'\n",
              "            + ' to learn more about interactive tables.';\n",
              "          element.innerHTML = '';\n",
              "          dataTable['output_type'] = 'display_data';\n",
              "          await google.colab.output.renderOutput(dataTable, element);\n",
              "          const docLink = document.createElement('div');\n",
              "          docLink.innerHTML = docLinkHtml;\n",
              "          element.appendChild(docLink);\n",
              "        }\n",
              "      </script>\n",
              "    </div>\n",
              "  </div>\n",
              "  "
            ]
          },
          "metadata": {},
          "execution_count": 28
        }
      ],
      "source": [
        "train.head()"
      ]
    },
    {
      "cell_type": "code",
      "source": [
        "trainzscore = train.drop(num_cols, axis=1)\n",
        "#trainzscore= trainzscore.drop(cat_cols, axis=1)\n",
        "trainzscore"
      ],
      "metadata": {
        "colab": {
          "base_uri": "https://localhost:8080/",
          "height": 424
        },
        "id": "c2efvXwtqjQV",
        "outputId": "eef522c5-c0ee-4288-ca00-d3c9a9803688"
      },
      "execution_count": 30,
      "outputs": [
        {
          "output_type": "execute_result",
          "data": {
            "text/plain": [
              "    location sex  species  bill_depth_zscore  bill_length_zscore  \\\n",
              "0          1   0        2          -1.544327            0.381373   \n",
              "1          1   0        2          -1.492785            0.428951   \n",
              "2          2   0        1           0.568894            0.214851   \n",
              "3          1   0        2          -1.192752            0.216012   \n",
              "4          2   0        2           0.868927           -1.983402   \n",
              "..       ...  ..      ...                ...                 ...   \n",
              "430        1   1        1          -0.152693            0.532153   \n",
              "431        2   0        0          -0.101152            0.214851   \n",
              "432        0   1        0           1.084314            0.214851   \n",
              "433        1   1        1          -0.358861            2.120893   \n",
              "434        2   1        0           0.826604            0.214851   \n",
              "\n",
              "     wing_length_zscore  mass_zscore  b_depth_length_ratio  \\\n",
              "0              0.756869     0.391531              0.296680   \n",
              "1              0.127986     0.423153              0.297521   \n",
              "2             -0.141535    -1.126323              0.387368   \n",
              "3             -0.231375     0.644506              0.315381   \n",
              "4              1.402552     1.150458              0.496144   \n",
              "..                  ...          ...                   ...   \n",
              "430           -0.500897    -0.999835              0.348119   \n",
              "431           -0.770418    -1.126323              0.360000   \n",
              "432           -0.231375    -0.493884              0.408421   \n",
              "433           -1.309461    -1.758762              0.299033   \n",
              "434           -0.231375     0.012067              0.397895   \n",
              "\n",
              "     b_length_depth_ratio  w_length_mass_ratio  \n",
              "0                3.370629             0.045652  \n",
              "1                3.361111             0.043892  \n",
              "2                2.581522             0.058824  \n",
              "3                3.170773             0.041458  \n",
              "4                2.015545             0.041767  \n",
              "..                    ...                  ...  \n",
              "430              2.872578             0.056000  \n",
              "431              2.777778             0.056765  \n",
              "432              2.448454             0.051026  \n",
              "433              3.344117             0.064483  \n",
              "434              2.513228             0.046279  \n",
              "\n",
              "[435 rows x 10 columns]"
            ],
            "text/html": [
              "\n",
              "  <div id=\"df-f66cec24-b5aa-47bb-9503-250c5b319ac0\">\n",
              "    <div class=\"colab-df-container\">\n",
              "      <div>\n",
              "<style scoped>\n",
              "    .dataframe tbody tr th:only-of-type {\n",
              "        vertical-align: middle;\n",
              "    }\n",
              "\n",
              "    .dataframe tbody tr th {\n",
              "        vertical-align: top;\n",
              "    }\n",
              "\n",
              "    .dataframe thead th {\n",
              "        text-align: right;\n",
              "    }\n",
              "</style>\n",
              "<table border=\"1\" class=\"dataframe\">\n",
              "  <thead>\n",
              "    <tr style=\"text-align: right;\">\n",
              "      <th></th>\n",
              "      <th>location</th>\n",
              "      <th>sex</th>\n",
              "      <th>species</th>\n",
              "      <th>bill_depth_zscore</th>\n",
              "      <th>bill_length_zscore</th>\n",
              "      <th>wing_length_zscore</th>\n",
              "      <th>mass_zscore</th>\n",
              "      <th>b_depth_length_ratio</th>\n",
              "      <th>b_length_depth_ratio</th>\n",
              "      <th>w_length_mass_ratio</th>\n",
              "    </tr>\n",
              "  </thead>\n",
              "  <tbody>\n",
              "    <tr>\n",
              "      <th>0</th>\n",
              "      <td>1</td>\n",
              "      <td>0</td>\n",
              "      <td>2</td>\n",
              "      <td>-1.544327</td>\n",
              "      <td>0.381373</td>\n",
              "      <td>0.756869</td>\n",
              "      <td>0.391531</td>\n",
              "      <td>0.296680</td>\n",
              "      <td>3.370629</td>\n",
              "      <td>0.045652</td>\n",
              "    </tr>\n",
              "    <tr>\n",
              "      <th>1</th>\n",
              "      <td>1</td>\n",
              "      <td>0</td>\n",
              "      <td>2</td>\n",
              "      <td>-1.492785</td>\n",
              "      <td>0.428951</td>\n",
              "      <td>0.127986</td>\n",
              "      <td>0.423153</td>\n",
              "      <td>0.297521</td>\n",
              "      <td>3.361111</td>\n",
              "      <td>0.043892</td>\n",
              "    </tr>\n",
              "    <tr>\n",
              "      <th>2</th>\n",
              "      <td>2</td>\n",
              "      <td>0</td>\n",
              "      <td>1</td>\n",
              "      <td>0.568894</td>\n",
              "      <td>0.214851</td>\n",
              "      <td>-0.141535</td>\n",
              "      <td>-1.126323</td>\n",
              "      <td>0.387368</td>\n",
              "      <td>2.581522</td>\n",
              "      <td>0.058824</td>\n",
              "    </tr>\n",
              "    <tr>\n",
              "      <th>3</th>\n",
              "      <td>1</td>\n",
              "      <td>0</td>\n",
              "      <td>2</td>\n",
              "      <td>-1.192752</td>\n",
              "      <td>0.216012</td>\n",
              "      <td>-0.231375</td>\n",
              "      <td>0.644506</td>\n",
              "      <td>0.315381</td>\n",
              "      <td>3.170773</td>\n",
              "      <td>0.041458</td>\n",
              "    </tr>\n",
              "    <tr>\n",
              "      <th>4</th>\n",
              "      <td>2</td>\n",
              "      <td>0</td>\n",
              "      <td>2</td>\n",
              "      <td>0.868927</td>\n",
              "      <td>-1.983402</td>\n",
              "      <td>1.402552</td>\n",
              "      <td>1.150458</td>\n",
              "      <td>0.496144</td>\n",
              "      <td>2.015545</td>\n",
              "      <td>0.041767</td>\n",
              "    </tr>\n",
              "    <tr>\n",
              "      <th>...</th>\n",
              "      <td>...</td>\n",
              "      <td>...</td>\n",
              "      <td>...</td>\n",
              "      <td>...</td>\n",
              "      <td>...</td>\n",
              "      <td>...</td>\n",
              "      <td>...</td>\n",
              "      <td>...</td>\n",
              "      <td>...</td>\n",
              "      <td>...</td>\n",
              "    </tr>\n",
              "    <tr>\n",
              "      <th>430</th>\n",
              "      <td>1</td>\n",
              "      <td>1</td>\n",
              "      <td>1</td>\n",
              "      <td>-0.152693</td>\n",
              "      <td>0.532153</td>\n",
              "      <td>-0.500897</td>\n",
              "      <td>-0.999835</td>\n",
              "      <td>0.348119</td>\n",
              "      <td>2.872578</td>\n",
              "      <td>0.056000</td>\n",
              "    </tr>\n",
              "    <tr>\n",
              "      <th>431</th>\n",
              "      <td>2</td>\n",
              "      <td>0</td>\n",
              "      <td>0</td>\n",
              "      <td>-0.101152</td>\n",
              "      <td>0.214851</td>\n",
              "      <td>-0.770418</td>\n",
              "      <td>-1.126323</td>\n",
              "      <td>0.360000</td>\n",
              "      <td>2.777778</td>\n",
              "      <td>0.056765</td>\n",
              "    </tr>\n",
              "    <tr>\n",
              "      <th>432</th>\n",
              "      <td>0</td>\n",
              "      <td>1</td>\n",
              "      <td>0</td>\n",
              "      <td>1.084314</td>\n",
              "      <td>0.214851</td>\n",
              "      <td>-0.231375</td>\n",
              "      <td>-0.493884</td>\n",
              "      <td>0.408421</td>\n",
              "      <td>2.448454</td>\n",
              "      <td>0.051026</td>\n",
              "    </tr>\n",
              "    <tr>\n",
              "      <th>433</th>\n",
              "      <td>1</td>\n",
              "      <td>1</td>\n",
              "      <td>1</td>\n",
              "      <td>-0.358861</td>\n",
              "      <td>2.120893</td>\n",
              "      <td>-1.309461</td>\n",
              "      <td>-1.758762</td>\n",
              "      <td>0.299033</td>\n",
              "      <td>3.344117</td>\n",
              "      <td>0.064483</td>\n",
              "    </tr>\n",
              "    <tr>\n",
              "      <th>434</th>\n",
              "      <td>2</td>\n",
              "      <td>1</td>\n",
              "      <td>0</td>\n",
              "      <td>0.826604</td>\n",
              "      <td>0.214851</td>\n",
              "      <td>-0.231375</td>\n",
              "      <td>0.012067</td>\n",
              "      <td>0.397895</td>\n",
              "      <td>2.513228</td>\n",
              "      <td>0.046279</td>\n",
              "    </tr>\n",
              "  </tbody>\n",
              "</table>\n",
              "<p>435 rows × 10 columns</p>\n",
              "</div>\n",
              "      <button class=\"colab-df-convert\" onclick=\"convertToInteractive('df-f66cec24-b5aa-47bb-9503-250c5b319ac0')\"\n",
              "              title=\"Convert this dataframe to an interactive table.\"\n",
              "              style=\"display:none;\">\n",
              "        \n",
              "  <svg xmlns=\"http://www.w3.org/2000/svg\" height=\"24px\"viewBox=\"0 0 24 24\"\n",
              "       width=\"24px\">\n",
              "    <path d=\"M0 0h24v24H0V0z\" fill=\"none\"/>\n",
              "    <path d=\"M18.56 5.44l.94 2.06.94-2.06 2.06-.94-2.06-.94-.94-2.06-.94 2.06-2.06.94zm-11 1L8.5 8.5l.94-2.06 2.06-.94-2.06-.94L8.5 2.5l-.94 2.06-2.06.94zm10 10l.94 2.06.94-2.06 2.06-.94-2.06-.94-.94-2.06-.94 2.06-2.06.94z\"/><path d=\"M17.41 7.96l-1.37-1.37c-.4-.4-.92-.59-1.43-.59-.52 0-1.04.2-1.43.59L10.3 9.45l-7.72 7.72c-.78.78-.78 2.05 0 2.83L4 21.41c.39.39.9.59 1.41.59.51 0 1.02-.2 1.41-.59l7.78-7.78 2.81-2.81c.8-.78.8-2.07 0-2.86zM5.41 20L4 18.59l7.72-7.72 1.47 1.35L5.41 20z\"/>\n",
              "  </svg>\n",
              "      </button>\n",
              "      \n",
              "  <style>\n",
              "    .colab-df-container {\n",
              "      display:flex;\n",
              "      flex-wrap:wrap;\n",
              "      gap: 12px;\n",
              "    }\n",
              "\n",
              "    .colab-df-convert {\n",
              "      background-color: #E8F0FE;\n",
              "      border: none;\n",
              "      border-radius: 50%;\n",
              "      cursor: pointer;\n",
              "      display: none;\n",
              "      fill: #1967D2;\n",
              "      height: 32px;\n",
              "      padding: 0 0 0 0;\n",
              "      width: 32px;\n",
              "    }\n",
              "\n",
              "    .colab-df-convert:hover {\n",
              "      background-color: #E2EBFA;\n",
              "      box-shadow: 0px 1px 2px rgba(60, 64, 67, 0.3), 0px 1px 3px 1px rgba(60, 64, 67, 0.15);\n",
              "      fill: #174EA6;\n",
              "    }\n",
              "\n",
              "    [theme=dark] .colab-df-convert {\n",
              "      background-color: #3B4455;\n",
              "      fill: #D2E3FC;\n",
              "    }\n",
              "\n",
              "    [theme=dark] .colab-df-convert:hover {\n",
              "      background-color: #434B5C;\n",
              "      box-shadow: 0px 1px 3px 1px rgba(0, 0, 0, 0.15);\n",
              "      filter: drop-shadow(0px 1px 2px rgba(0, 0, 0, 0.3));\n",
              "      fill: #FFFFFF;\n",
              "    }\n",
              "  </style>\n",
              "\n",
              "      <script>\n",
              "        const buttonEl =\n",
              "          document.querySelector('#df-f66cec24-b5aa-47bb-9503-250c5b319ac0 button.colab-df-convert');\n",
              "        buttonEl.style.display =\n",
              "          google.colab.kernel.accessAllowed ? 'block' : 'none';\n",
              "\n",
              "        async function convertToInteractive(key) {\n",
              "          const element = document.querySelector('#df-f66cec24-b5aa-47bb-9503-250c5b319ac0');\n",
              "          const dataTable =\n",
              "            await google.colab.kernel.invokeFunction('convertToInteractive',\n",
              "                                                     [key], {});\n",
              "          if (!dataTable) return;\n",
              "\n",
              "          const docLinkHtml = 'Like what you see? Visit the ' +\n",
              "            '<a target=\"_blank\" href=https://colab.research.google.com/notebooks/data_table.ipynb>data table notebook</a>'\n",
              "            + ' to learn more about interactive tables.';\n",
              "          element.innerHTML = '';\n",
              "          dataTable['output_type'] = 'display_data';\n",
              "          await google.colab.output.renderOutput(dataTable, element);\n",
              "          const docLink = document.createElement('div');\n",
              "          docLink.innerHTML = docLinkHtml;\n",
              "          element.appendChild(docLink);\n",
              "        }\n",
              "      </script>\n",
              "    </div>\n",
              "  </div>\n",
              "  "
            ]
          },
          "metadata": {},
          "execution_count": 30
        }
      ]
    },
    {
      "cell_type": "markdown",
      "source": [
        "Save the processed dataset into a file in order to use it in Knine."
      ],
      "metadata": {
        "id": "3X7FVMWwOunW"
      }
    },
    {
      "cell_type": "code",
      "source": [
        "trainzscore.to_csv('train_zscore.csv',index=False, sep=',')"
      ],
      "metadata": {
        "id": "xE1z54lvrsGc"
      },
      "execution_count": 31,
      "outputs": []
    },
    {
      "cell_type": "markdown",
      "source": [
        "## Test data"
      ],
      "metadata": {
        "id": "1YFlPfX_S9h1"
      }
    },
    {
      "cell_type": "markdown",
      "source": [
        "It's necessary to apply the same trasformation also on the test set"
      ],
      "metadata": {
        "id": "cXhCA48ES_fg"
      }
    },
    {
      "cell_type": "code",
      "source": [
        "num_cols = [\"bill_depth\", \"bill_length\", \"wing_length\", \"mass\"]\n",
        "cat_cols = [\"location\", \"sex\"]\n",
        "all_cols = num_cols + cat_cols + [target_cols]\n",
        "\n",
        "le = LabelEncoder()\n",
        "\n",
        "cat_imp = SimpleImputer(strategy=\"most_frequent\")\n",
        "num_imp = SimpleImputer(strategy=\"median\")\n",
        "\n",
        "test[cat_cols] = cat_imp.fit_transform(test[cat_cols])\n",
        "test[num_cols] = num_imp.fit_transform(test[num_cols])\n",
        "\n",
        "for col in cat_cols:\n",
        "    if test[col].dtype == \"object\":\n",
        "        test[col] = le.fit_transform(test[col])\n",
        "\n",
        "# Convert cat_features to pd.Categorical dtype\n",
        "for col in cat_cols:\n",
        "    test[col] = pd.Categorical(test[col])\n",
        "\n",
        "# save ID column\n",
        "test_id = test[\"ID\"]\n",
        "\n",
        "all_cols.remove('species')\n",
        "test = test[all_cols]\n",
        "\n",
        "test['b_depth_length_ratio'] = test['bill_depth'] / test['bill_length']\n",
        "test['b_length_depth_ratio'] = test['bill_length'] / test['bill_depth']\n",
        "test['w_length_mass_ratio'] = test['wing_length'] / test['mass']"
      ],
      "metadata": {
        "colab": {
          "base_uri": "https://localhost:8080/",
          "height": 363
        },
        "id": "Xa7w7_DCTFHK",
        "outputId": "50328946-64cf-4fa3-955d-7414a8dc355e"
      },
      "execution_count": 49,
      "outputs": [
        {
          "output_type": "error",
          "ename": "UFuncTypeError",
          "evalue": "ignored",
          "traceback": [
            "\u001b[0;31m---------------------------------------------------------------------------\u001b[0m",
            "\u001b[0;31mUFuncTypeError\u001b[0m                            Traceback (most recent call last)",
            "\u001b[0;32m<ipython-input-49-fe3339dcfabe>\u001b[0m in \u001b[0;36m<module>\u001b[0;34m()\u001b[0m\n\u001b[1;32m     29\u001b[0m \u001b[0mtest\u001b[0m\u001b[0;34m[\u001b[0m\u001b[0;34m'w_length_mass_ratio'\u001b[0m\u001b[0;34m]\u001b[0m \u001b[0;34m=\u001b[0m \u001b[0mtest\u001b[0m\u001b[0;34m[\u001b[0m\u001b[0;34m'wing_length'\u001b[0m\u001b[0;34m]\u001b[0m \u001b[0;34m/\u001b[0m \u001b[0mtest\u001b[0m\u001b[0;34m[\u001b[0m\u001b[0;34m'mass'\u001b[0m\u001b[0;34m]\u001b[0m\u001b[0;34m\u001b[0m\u001b[0;34m\u001b[0m\u001b[0m\n\u001b[1;32m     30\u001b[0m \u001b[0;34m\u001b[0m\u001b[0m\n\u001b[0;32m---> 31\u001b[0;31m \u001b[0mtest\u001b[0m \u001b[0;34m=\u001b[0m \u001b[0mtest\u001b[0m\u001b[0;34m[\u001b[0m\u001b[0mall_cols\u001b[0m \u001b[0;34m+\u001b[0m \u001b[0mtest_id\u001b[0m\u001b[0;34m]\u001b[0m\u001b[0;34m\u001b[0m\u001b[0;34m\u001b[0m\u001b[0m\n\u001b[0m\u001b[1;32m     32\u001b[0m \u001b[0mtest\u001b[0m\u001b[0;34m\u001b[0m\u001b[0;34m\u001b[0m\u001b[0m\n",
            "\u001b[0;32m/usr/local/lib/python3.7/dist-packages/pandas/core/ops/common.py\u001b[0m in \u001b[0;36mnew_method\u001b[0;34m(self, other)\u001b[0m\n\u001b[1;32m     67\u001b[0m         \u001b[0mother\u001b[0m \u001b[0;34m=\u001b[0m \u001b[0mitem_from_zerodim\u001b[0m\u001b[0;34m(\u001b[0m\u001b[0mother\u001b[0m\u001b[0;34m)\u001b[0m\u001b[0;34m\u001b[0m\u001b[0;34m\u001b[0m\u001b[0m\n\u001b[1;32m     68\u001b[0m \u001b[0;34m\u001b[0m\u001b[0m\n\u001b[0;32m---> 69\u001b[0;31m         \u001b[0;32mreturn\u001b[0m \u001b[0mmethod\u001b[0m\u001b[0;34m(\u001b[0m\u001b[0mself\u001b[0m\u001b[0;34m,\u001b[0m \u001b[0mother\u001b[0m\u001b[0;34m)\u001b[0m\u001b[0;34m\u001b[0m\u001b[0;34m\u001b[0m\u001b[0m\n\u001b[0m\u001b[1;32m     70\u001b[0m \u001b[0;34m\u001b[0m\u001b[0m\n\u001b[1;32m     71\u001b[0m     \u001b[0;32mreturn\u001b[0m \u001b[0mnew_method\u001b[0m\u001b[0;34m\u001b[0m\u001b[0;34m\u001b[0m\u001b[0m\n",
            "\u001b[0;32m/usr/local/lib/python3.7/dist-packages/pandas/core/arraylike.py\u001b[0m in \u001b[0;36m__radd__\u001b[0;34m(self, other)\u001b[0m\n\u001b[1;32m     94\u001b[0m     \u001b[0;34m@\u001b[0m\u001b[0munpack_zerodim_and_defer\u001b[0m\u001b[0;34m(\u001b[0m\u001b[0;34m\"__radd__\"\u001b[0m\u001b[0;34m)\u001b[0m\u001b[0;34m\u001b[0m\u001b[0;34m\u001b[0m\u001b[0m\n\u001b[1;32m     95\u001b[0m     \u001b[0;32mdef\u001b[0m \u001b[0m__radd__\u001b[0m\u001b[0;34m(\u001b[0m\u001b[0mself\u001b[0m\u001b[0;34m,\u001b[0m \u001b[0mother\u001b[0m\u001b[0;34m)\u001b[0m\u001b[0;34m:\u001b[0m\u001b[0;34m\u001b[0m\u001b[0;34m\u001b[0m\u001b[0m\n\u001b[0;32m---> 96\u001b[0;31m         \u001b[0;32mreturn\u001b[0m \u001b[0mself\u001b[0m\u001b[0;34m.\u001b[0m\u001b[0m_arith_method\u001b[0m\u001b[0;34m(\u001b[0m\u001b[0mother\u001b[0m\u001b[0;34m,\u001b[0m \u001b[0mroperator\u001b[0m\u001b[0;34m.\u001b[0m\u001b[0mradd\u001b[0m\u001b[0;34m)\u001b[0m\u001b[0;34m\u001b[0m\u001b[0;34m\u001b[0m\u001b[0m\n\u001b[0m\u001b[1;32m     97\u001b[0m \u001b[0;34m\u001b[0m\u001b[0m\n\u001b[1;32m     98\u001b[0m     \u001b[0;34m@\u001b[0m\u001b[0munpack_zerodim_and_defer\u001b[0m\u001b[0;34m(\u001b[0m\u001b[0;34m\"__sub__\"\u001b[0m\u001b[0;34m)\u001b[0m\u001b[0;34m\u001b[0m\u001b[0;34m\u001b[0m\u001b[0m\n",
            "\u001b[0;32m/usr/local/lib/python3.7/dist-packages/pandas/core/series.py\u001b[0m in \u001b[0;36m_arith_method\u001b[0;34m(self, other, op)\u001b[0m\n\u001b[1;32m   5524\u001b[0m \u001b[0;34m\u001b[0m\u001b[0m\n\u001b[1;32m   5525\u001b[0m         \u001b[0;32mwith\u001b[0m \u001b[0mnp\u001b[0m\u001b[0;34m.\u001b[0m\u001b[0merrstate\u001b[0m\u001b[0;34m(\u001b[0m\u001b[0mall\u001b[0m\u001b[0;34m=\u001b[0m\u001b[0;34m\"ignore\"\u001b[0m\u001b[0;34m)\u001b[0m\u001b[0;34m:\u001b[0m\u001b[0;34m\u001b[0m\u001b[0;34m\u001b[0m\u001b[0m\n\u001b[0;32m-> 5526\u001b[0;31m             \u001b[0mresult\u001b[0m \u001b[0;34m=\u001b[0m \u001b[0mops\u001b[0m\u001b[0;34m.\u001b[0m\u001b[0marithmetic_op\u001b[0m\u001b[0;34m(\u001b[0m\u001b[0mlvalues\u001b[0m\u001b[0;34m,\u001b[0m \u001b[0mrvalues\u001b[0m\u001b[0;34m,\u001b[0m \u001b[0mop\u001b[0m\u001b[0;34m)\u001b[0m\u001b[0;34m\u001b[0m\u001b[0;34m\u001b[0m\u001b[0m\n\u001b[0m\u001b[1;32m   5527\u001b[0m \u001b[0;34m\u001b[0m\u001b[0m\n\u001b[1;32m   5528\u001b[0m         \u001b[0;32mreturn\u001b[0m \u001b[0mself\u001b[0m\u001b[0;34m.\u001b[0m\u001b[0m_construct_result\u001b[0m\u001b[0;34m(\u001b[0m\u001b[0mresult\u001b[0m\u001b[0;34m,\u001b[0m \u001b[0mname\u001b[0m\u001b[0;34m=\u001b[0m\u001b[0mres_name\u001b[0m\u001b[0;34m)\u001b[0m\u001b[0;34m\u001b[0m\u001b[0;34m\u001b[0m\u001b[0m\n",
            "\u001b[0;32m/usr/local/lib/python3.7/dist-packages/pandas/core/ops/array_ops.py\u001b[0m in \u001b[0;36marithmetic_op\u001b[0;34m(left, right, op)\u001b[0m\n\u001b[1;32m    222\u001b[0m         \u001b[0m_bool_arith_check\u001b[0m\u001b[0;34m(\u001b[0m\u001b[0mop\u001b[0m\u001b[0;34m,\u001b[0m \u001b[0mleft\u001b[0m\u001b[0;34m,\u001b[0m \u001b[0mright\u001b[0m\u001b[0;34m)\u001b[0m\u001b[0;34m\u001b[0m\u001b[0;34m\u001b[0m\u001b[0m\n\u001b[1;32m    223\u001b[0m \u001b[0;34m\u001b[0m\u001b[0m\n\u001b[0;32m--> 224\u001b[0;31m         \u001b[0mres_values\u001b[0m \u001b[0;34m=\u001b[0m \u001b[0m_na_arithmetic_op\u001b[0m\u001b[0;34m(\u001b[0m\u001b[0mleft\u001b[0m\u001b[0;34m,\u001b[0m \u001b[0mright\u001b[0m\u001b[0;34m,\u001b[0m \u001b[0mop\u001b[0m\u001b[0;34m)\u001b[0m\u001b[0;34m\u001b[0m\u001b[0;34m\u001b[0m\u001b[0m\n\u001b[0m\u001b[1;32m    225\u001b[0m \u001b[0;34m\u001b[0m\u001b[0m\n\u001b[1;32m    226\u001b[0m     \u001b[0;32mreturn\u001b[0m \u001b[0mres_values\u001b[0m\u001b[0;34m\u001b[0m\u001b[0;34m\u001b[0m\u001b[0m\n",
            "\u001b[0;32m/usr/local/lib/python3.7/dist-packages/pandas/core/ops/array_ops.py\u001b[0m in \u001b[0;36m_na_arithmetic_op\u001b[0;34m(left, right, op, is_cmp)\u001b[0m\n\u001b[1;32m    164\u001b[0m \u001b[0;34m\u001b[0m\u001b[0m\n\u001b[1;32m    165\u001b[0m     \u001b[0;32mtry\u001b[0m\u001b[0;34m:\u001b[0m\u001b[0;34m\u001b[0m\u001b[0;34m\u001b[0m\u001b[0m\n\u001b[0;32m--> 166\u001b[0;31m         \u001b[0mresult\u001b[0m \u001b[0;34m=\u001b[0m \u001b[0mfunc\u001b[0m\u001b[0;34m(\u001b[0m\u001b[0mleft\u001b[0m\u001b[0;34m,\u001b[0m \u001b[0mright\u001b[0m\u001b[0;34m)\u001b[0m\u001b[0;34m\u001b[0m\u001b[0;34m\u001b[0m\u001b[0m\n\u001b[0m\u001b[1;32m    167\u001b[0m     \u001b[0;32mexcept\u001b[0m \u001b[0mTypeError\u001b[0m\u001b[0;34m:\u001b[0m\u001b[0;34m\u001b[0m\u001b[0;34m\u001b[0m\u001b[0m\n\u001b[1;32m    168\u001b[0m         \u001b[0;32mif\u001b[0m \u001b[0mis_object_dtype\u001b[0m\u001b[0;34m(\u001b[0m\u001b[0mleft\u001b[0m\u001b[0;34m)\u001b[0m \u001b[0;32mor\u001b[0m \u001b[0mis_object_dtype\u001b[0m\u001b[0;34m(\u001b[0m\u001b[0mright\u001b[0m\u001b[0;34m)\u001b[0m \u001b[0;32mand\u001b[0m \u001b[0;32mnot\u001b[0m \u001b[0mis_cmp\u001b[0m\u001b[0;34m:\u001b[0m\u001b[0;34m\u001b[0m\u001b[0;34m\u001b[0m\u001b[0m\n",
            "\u001b[0;32m/usr/local/lib/python3.7/dist-packages/pandas/core/computation/expressions.py\u001b[0m in \u001b[0;36mevaluate\u001b[0;34m(op, a, b, use_numexpr)\u001b[0m\n\u001b[1;32m    237\u001b[0m         \u001b[0;32mif\u001b[0m \u001b[0muse_numexpr\u001b[0m\u001b[0;34m:\u001b[0m\u001b[0;34m\u001b[0m\u001b[0;34m\u001b[0m\u001b[0m\n\u001b[1;32m    238\u001b[0m             \u001b[0;31m# error: \"None\" not callable\u001b[0m\u001b[0;34m\u001b[0m\u001b[0;34m\u001b[0m\u001b[0;34m\u001b[0m\u001b[0m\n\u001b[0;32m--> 239\u001b[0;31m             \u001b[0;32mreturn\u001b[0m \u001b[0m_evaluate\u001b[0m\u001b[0;34m(\u001b[0m\u001b[0mop\u001b[0m\u001b[0;34m,\u001b[0m \u001b[0mop_str\u001b[0m\u001b[0;34m,\u001b[0m \u001b[0ma\u001b[0m\u001b[0;34m,\u001b[0m \u001b[0mb\u001b[0m\u001b[0;34m)\u001b[0m  \u001b[0;31m# type: ignore[misc]\u001b[0m\u001b[0;34m\u001b[0m\u001b[0;34m\u001b[0m\u001b[0m\n\u001b[0m\u001b[1;32m    240\u001b[0m     \u001b[0;32mreturn\u001b[0m \u001b[0m_evaluate_standard\u001b[0m\u001b[0;34m(\u001b[0m\u001b[0mop\u001b[0m\u001b[0;34m,\u001b[0m \u001b[0mop_str\u001b[0m\u001b[0;34m,\u001b[0m \u001b[0ma\u001b[0m\u001b[0;34m,\u001b[0m \u001b[0mb\u001b[0m\u001b[0;34m)\u001b[0m\u001b[0;34m\u001b[0m\u001b[0;34m\u001b[0m\u001b[0m\n\u001b[1;32m    241\u001b[0m \u001b[0;34m\u001b[0m\u001b[0m\n",
            "\u001b[0;32m/usr/local/lib/python3.7/dist-packages/pandas/core/computation/expressions.py\u001b[0m in \u001b[0;36m_evaluate_numexpr\u001b[0;34m(op, op_str, a, b)\u001b[0m\n\u001b[1;32m    126\u001b[0m \u001b[0;34m\u001b[0m\u001b[0m\n\u001b[1;32m    127\u001b[0m     \u001b[0;32mif\u001b[0m \u001b[0mresult\u001b[0m \u001b[0;32mis\u001b[0m \u001b[0;32mNone\u001b[0m\u001b[0;34m:\u001b[0m\u001b[0;34m\u001b[0m\u001b[0;34m\u001b[0m\u001b[0m\n\u001b[0;32m--> 128\u001b[0;31m         \u001b[0mresult\u001b[0m \u001b[0;34m=\u001b[0m \u001b[0m_evaluate_standard\u001b[0m\u001b[0;34m(\u001b[0m\u001b[0mop\u001b[0m\u001b[0;34m,\u001b[0m \u001b[0mop_str\u001b[0m\u001b[0;34m,\u001b[0m \u001b[0ma\u001b[0m\u001b[0;34m,\u001b[0m \u001b[0mb\u001b[0m\u001b[0;34m)\u001b[0m\u001b[0;34m\u001b[0m\u001b[0;34m\u001b[0m\u001b[0m\n\u001b[0m\u001b[1;32m    129\u001b[0m \u001b[0;34m\u001b[0m\u001b[0m\n\u001b[1;32m    130\u001b[0m     \u001b[0;32mreturn\u001b[0m \u001b[0mresult\u001b[0m\u001b[0;34m\u001b[0m\u001b[0;34m\u001b[0m\u001b[0m\n",
            "\u001b[0;32m/usr/local/lib/python3.7/dist-packages/pandas/core/computation/expressions.py\u001b[0m in \u001b[0;36m_evaluate_standard\u001b[0;34m(op, op_str, a, b)\u001b[0m\n\u001b[1;32m     67\u001b[0m     \u001b[0;32mif\u001b[0m \u001b[0m_TEST_MODE\u001b[0m\u001b[0;34m:\u001b[0m\u001b[0;34m\u001b[0m\u001b[0;34m\u001b[0m\u001b[0m\n\u001b[1;32m     68\u001b[0m         \u001b[0m_store_test_result\u001b[0m\u001b[0;34m(\u001b[0m\u001b[0;32mFalse\u001b[0m\u001b[0;34m)\u001b[0m\u001b[0;34m\u001b[0m\u001b[0;34m\u001b[0m\u001b[0m\n\u001b[0;32m---> 69\u001b[0;31m     \u001b[0;32mreturn\u001b[0m \u001b[0mop\u001b[0m\u001b[0;34m(\u001b[0m\u001b[0ma\u001b[0m\u001b[0;34m,\u001b[0m \u001b[0mb\u001b[0m\u001b[0;34m)\u001b[0m\u001b[0;34m\u001b[0m\u001b[0;34m\u001b[0m\u001b[0m\n\u001b[0m\u001b[1;32m     70\u001b[0m \u001b[0;34m\u001b[0m\u001b[0m\n\u001b[1;32m     71\u001b[0m \u001b[0;34m\u001b[0m\u001b[0m\n",
            "\u001b[0;32m/usr/local/lib/python3.7/dist-packages/pandas/core/roperator.py\u001b[0m in \u001b[0;36mradd\u001b[0;34m(left, right)\u001b[0m\n\u001b[1;32m      7\u001b[0m \u001b[0;34m\u001b[0m\u001b[0m\n\u001b[1;32m      8\u001b[0m \u001b[0;32mdef\u001b[0m \u001b[0mradd\u001b[0m\u001b[0;34m(\u001b[0m\u001b[0mleft\u001b[0m\u001b[0;34m,\u001b[0m \u001b[0mright\u001b[0m\u001b[0;34m)\u001b[0m\u001b[0;34m:\u001b[0m\u001b[0;34m\u001b[0m\u001b[0;34m\u001b[0m\u001b[0m\n\u001b[0;32m----> 9\u001b[0;31m     \u001b[0;32mreturn\u001b[0m \u001b[0mright\u001b[0m \u001b[0;34m+\u001b[0m \u001b[0mleft\u001b[0m\u001b[0;34m\u001b[0m\u001b[0;34m\u001b[0m\u001b[0m\n\u001b[0m\u001b[1;32m     10\u001b[0m \u001b[0;34m\u001b[0m\u001b[0m\n\u001b[1;32m     11\u001b[0m \u001b[0;34m\u001b[0m\u001b[0m\n",
            "\u001b[0;31mUFuncTypeError\u001b[0m: ufunc 'add' did not contain a loop with signature matching types (dtype('<U11'), dtype('int64')) -> None"
          ]
        }
      ]
    },
    {
      "cell_type": "code",
      "source": [
        "test2 = test.join(test_id)\n",
        "\n",
        "test2"
      ],
      "metadata": {
        "colab": {
          "base_uri": "https://localhost:8080/",
          "height": 424
        },
        "id": "5bnm4bRNVMWo",
        "outputId": "e885819f-cfd7-4926-bb43-4afdf88bd218"
      },
      "execution_count": 53,
      "outputs": [
        {
          "output_type": "execute_result",
          "data": {
            "text/plain": [
              "     bill_depth  bill_length  wing_length    mass location sex  \\\n",
              "0     14.982114    38.259307   217.186992  5400.0        1   0   \n",
              "1     13.200000    46.100000   211.000000  4500.0        1   0   \n",
              "2     20.000000    46.750000   197.000000  3300.0        2   1   \n",
              "3     17.500000    38.791391   190.000000  3900.0        2   0   \n",
              "4     18.900000    46.750000   184.000000  3550.0        1   1   \n",
              "..          ...          ...          ...     ...      ...  ..   \n",
              "104   19.000000    46.750000   197.000000  3600.0        0   0   \n",
              "105   18.000000    46.750000   210.000000  4000.0        0   1   \n",
              "106   19.500000    49.000000   210.000000  3950.0        2   1   \n",
              "107   17.900000    50.100000   190.000000  3400.0        2   0   \n",
              "108   14.982114    38.259307   197.000000  5550.0        2   0   \n",
              "\n",
              "     b_depth_length_ratio  b_length_depth_ratio  w_length_mass_ratio   ID  \n",
              "0                0.391594              2.553665             0.040220    2  \n",
              "1                0.286334              3.492424             0.046889    5  \n",
              "2                0.427807              2.337500             0.059697    7  \n",
              "3                0.451131              2.216651             0.048718    8  \n",
              "4                0.404278              2.473545             0.051831    9  \n",
              "..                    ...                   ...                  ...  ...  \n",
              "104              0.406417              2.460526             0.054722  507  \n",
              "105              0.385027              2.597222             0.052500  512  \n",
              "106              0.397959              2.512821             0.053165  516  \n",
              "107              0.357285              2.798883             0.055882  533  \n",
              "108              0.391594              2.553665             0.035495  541  \n",
              "\n",
              "[109 rows x 10 columns]"
            ],
            "text/html": [
              "\n",
              "  <div id=\"df-1efee13e-e856-43d9-a5f3-14ef34376e2e\">\n",
              "    <div class=\"colab-df-container\">\n",
              "      <div>\n",
              "<style scoped>\n",
              "    .dataframe tbody tr th:only-of-type {\n",
              "        vertical-align: middle;\n",
              "    }\n",
              "\n",
              "    .dataframe tbody tr th {\n",
              "        vertical-align: top;\n",
              "    }\n",
              "\n",
              "    .dataframe thead th {\n",
              "        text-align: right;\n",
              "    }\n",
              "</style>\n",
              "<table border=\"1\" class=\"dataframe\">\n",
              "  <thead>\n",
              "    <tr style=\"text-align: right;\">\n",
              "      <th></th>\n",
              "      <th>bill_depth</th>\n",
              "      <th>bill_length</th>\n",
              "      <th>wing_length</th>\n",
              "      <th>mass</th>\n",
              "      <th>location</th>\n",
              "      <th>sex</th>\n",
              "      <th>b_depth_length_ratio</th>\n",
              "      <th>b_length_depth_ratio</th>\n",
              "      <th>w_length_mass_ratio</th>\n",
              "      <th>ID</th>\n",
              "    </tr>\n",
              "  </thead>\n",
              "  <tbody>\n",
              "    <tr>\n",
              "      <th>0</th>\n",
              "      <td>14.982114</td>\n",
              "      <td>38.259307</td>\n",
              "      <td>217.186992</td>\n",
              "      <td>5400.0</td>\n",
              "      <td>1</td>\n",
              "      <td>0</td>\n",
              "      <td>0.391594</td>\n",
              "      <td>2.553665</td>\n",
              "      <td>0.040220</td>\n",
              "      <td>2</td>\n",
              "    </tr>\n",
              "    <tr>\n",
              "      <th>1</th>\n",
              "      <td>13.200000</td>\n",
              "      <td>46.100000</td>\n",
              "      <td>211.000000</td>\n",
              "      <td>4500.0</td>\n",
              "      <td>1</td>\n",
              "      <td>0</td>\n",
              "      <td>0.286334</td>\n",
              "      <td>3.492424</td>\n",
              "      <td>0.046889</td>\n",
              "      <td>5</td>\n",
              "    </tr>\n",
              "    <tr>\n",
              "      <th>2</th>\n",
              "      <td>20.000000</td>\n",
              "      <td>46.750000</td>\n",
              "      <td>197.000000</td>\n",
              "      <td>3300.0</td>\n",
              "      <td>2</td>\n",
              "      <td>1</td>\n",
              "      <td>0.427807</td>\n",
              "      <td>2.337500</td>\n",
              "      <td>0.059697</td>\n",
              "      <td>7</td>\n",
              "    </tr>\n",
              "    <tr>\n",
              "      <th>3</th>\n",
              "      <td>17.500000</td>\n",
              "      <td>38.791391</td>\n",
              "      <td>190.000000</td>\n",
              "      <td>3900.0</td>\n",
              "      <td>2</td>\n",
              "      <td>0</td>\n",
              "      <td>0.451131</td>\n",
              "      <td>2.216651</td>\n",
              "      <td>0.048718</td>\n",
              "      <td>8</td>\n",
              "    </tr>\n",
              "    <tr>\n",
              "      <th>4</th>\n",
              "      <td>18.900000</td>\n",
              "      <td>46.750000</td>\n",
              "      <td>184.000000</td>\n",
              "      <td>3550.0</td>\n",
              "      <td>1</td>\n",
              "      <td>1</td>\n",
              "      <td>0.404278</td>\n",
              "      <td>2.473545</td>\n",
              "      <td>0.051831</td>\n",
              "      <td>9</td>\n",
              "    </tr>\n",
              "    <tr>\n",
              "      <th>...</th>\n",
              "      <td>...</td>\n",
              "      <td>...</td>\n",
              "      <td>...</td>\n",
              "      <td>...</td>\n",
              "      <td>...</td>\n",
              "      <td>...</td>\n",
              "      <td>...</td>\n",
              "      <td>...</td>\n",
              "      <td>...</td>\n",
              "      <td>...</td>\n",
              "    </tr>\n",
              "    <tr>\n",
              "      <th>104</th>\n",
              "      <td>19.000000</td>\n",
              "      <td>46.750000</td>\n",
              "      <td>197.000000</td>\n",
              "      <td>3600.0</td>\n",
              "      <td>0</td>\n",
              "      <td>0</td>\n",
              "      <td>0.406417</td>\n",
              "      <td>2.460526</td>\n",
              "      <td>0.054722</td>\n",
              "      <td>507</td>\n",
              "    </tr>\n",
              "    <tr>\n",
              "      <th>105</th>\n",
              "      <td>18.000000</td>\n",
              "      <td>46.750000</td>\n",
              "      <td>210.000000</td>\n",
              "      <td>4000.0</td>\n",
              "      <td>0</td>\n",
              "      <td>1</td>\n",
              "      <td>0.385027</td>\n",
              "      <td>2.597222</td>\n",
              "      <td>0.052500</td>\n",
              "      <td>512</td>\n",
              "    </tr>\n",
              "    <tr>\n",
              "      <th>106</th>\n",
              "      <td>19.500000</td>\n",
              "      <td>49.000000</td>\n",
              "      <td>210.000000</td>\n",
              "      <td>3950.0</td>\n",
              "      <td>2</td>\n",
              "      <td>1</td>\n",
              "      <td>0.397959</td>\n",
              "      <td>2.512821</td>\n",
              "      <td>0.053165</td>\n",
              "      <td>516</td>\n",
              "    </tr>\n",
              "    <tr>\n",
              "      <th>107</th>\n",
              "      <td>17.900000</td>\n",
              "      <td>50.100000</td>\n",
              "      <td>190.000000</td>\n",
              "      <td>3400.0</td>\n",
              "      <td>2</td>\n",
              "      <td>0</td>\n",
              "      <td>0.357285</td>\n",
              "      <td>2.798883</td>\n",
              "      <td>0.055882</td>\n",
              "      <td>533</td>\n",
              "    </tr>\n",
              "    <tr>\n",
              "      <th>108</th>\n",
              "      <td>14.982114</td>\n",
              "      <td>38.259307</td>\n",
              "      <td>197.000000</td>\n",
              "      <td>5550.0</td>\n",
              "      <td>2</td>\n",
              "      <td>0</td>\n",
              "      <td>0.391594</td>\n",
              "      <td>2.553665</td>\n",
              "      <td>0.035495</td>\n",
              "      <td>541</td>\n",
              "    </tr>\n",
              "  </tbody>\n",
              "</table>\n",
              "<p>109 rows × 10 columns</p>\n",
              "</div>\n",
              "      <button class=\"colab-df-convert\" onclick=\"convertToInteractive('df-1efee13e-e856-43d9-a5f3-14ef34376e2e')\"\n",
              "              title=\"Convert this dataframe to an interactive table.\"\n",
              "              style=\"display:none;\">\n",
              "        \n",
              "  <svg xmlns=\"http://www.w3.org/2000/svg\" height=\"24px\"viewBox=\"0 0 24 24\"\n",
              "       width=\"24px\">\n",
              "    <path d=\"M0 0h24v24H0V0z\" fill=\"none\"/>\n",
              "    <path d=\"M18.56 5.44l.94 2.06.94-2.06 2.06-.94-2.06-.94-.94-2.06-.94 2.06-2.06.94zm-11 1L8.5 8.5l.94-2.06 2.06-.94-2.06-.94L8.5 2.5l-.94 2.06-2.06.94zm10 10l.94 2.06.94-2.06 2.06-.94-2.06-.94-.94-2.06-.94 2.06-2.06.94z\"/><path d=\"M17.41 7.96l-1.37-1.37c-.4-.4-.92-.59-1.43-.59-.52 0-1.04.2-1.43.59L10.3 9.45l-7.72 7.72c-.78.78-.78 2.05 0 2.83L4 21.41c.39.39.9.59 1.41.59.51 0 1.02-.2 1.41-.59l7.78-7.78 2.81-2.81c.8-.78.8-2.07 0-2.86zM5.41 20L4 18.59l7.72-7.72 1.47 1.35L5.41 20z\"/>\n",
              "  </svg>\n",
              "      </button>\n",
              "      \n",
              "  <style>\n",
              "    .colab-df-container {\n",
              "      display:flex;\n",
              "      flex-wrap:wrap;\n",
              "      gap: 12px;\n",
              "    }\n",
              "\n",
              "    .colab-df-convert {\n",
              "      background-color: #E8F0FE;\n",
              "      border: none;\n",
              "      border-radius: 50%;\n",
              "      cursor: pointer;\n",
              "      display: none;\n",
              "      fill: #1967D2;\n",
              "      height: 32px;\n",
              "      padding: 0 0 0 0;\n",
              "      width: 32px;\n",
              "    }\n",
              "\n",
              "    .colab-df-convert:hover {\n",
              "      background-color: #E2EBFA;\n",
              "      box-shadow: 0px 1px 2px rgba(60, 64, 67, 0.3), 0px 1px 3px 1px rgba(60, 64, 67, 0.15);\n",
              "      fill: #174EA6;\n",
              "    }\n",
              "\n",
              "    [theme=dark] .colab-df-convert {\n",
              "      background-color: #3B4455;\n",
              "      fill: #D2E3FC;\n",
              "    }\n",
              "\n",
              "    [theme=dark] .colab-df-convert:hover {\n",
              "      background-color: #434B5C;\n",
              "      box-shadow: 0px 1px 3px 1px rgba(0, 0, 0, 0.15);\n",
              "      filter: drop-shadow(0px 1px 2px rgba(0, 0, 0, 0.3));\n",
              "      fill: #FFFFFF;\n",
              "    }\n",
              "  </style>\n",
              "\n",
              "      <script>\n",
              "        const buttonEl =\n",
              "          document.querySelector('#df-1efee13e-e856-43d9-a5f3-14ef34376e2e button.colab-df-convert');\n",
              "        buttonEl.style.display =\n",
              "          google.colab.kernel.accessAllowed ? 'block' : 'none';\n",
              "\n",
              "        async function convertToInteractive(key) {\n",
              "          const element = document.querySelector('#df-1efee13e-e856-43d9-a5f3-14ef34376e2e');\n",
              "          const dataTable =\n",
              "            await google.colab.kernel.invokeFunction('convertToInteractive',\n",
              "                                                     [key], {});\n",
              "          if (!dataTable) return;\n",
              "\n",
              "          const docLinkHtml = 'Like what you see? Visit the ' +\n",
              "            '<a target=\"_blank\" href=https://colab.research.google.com/notebooks/data_table.ipynb>data table notebook</a>'\n",
              "            + ' to learn more about interactive tables.';\n",
              "          element.innerHTML = '';\n",
              "          dataTable['output_type'] = 'display_data';\n",
              "          await google.colab.output.renderOutput(dataTable, element);\n",
              "          const docLink = document.createElement('div');\n",
              "          docLink.innerHTML = docLinkHtml;\n",
              "          element.appendChild(docLink);\n",
              "        }\n",
              "      </script>\n",
              "    </div>\n",
              "  </div>\n",
              "  "
            ]
          },
          "metadata": {},
          "execution_count": 53
        }
      ]
    },
    {
      "cell_type": "code",
      "source": [
        "for col in num_cols:\n",
        "    col_zscore = col + '_zscore'\n",
        "    test2[col_zscore] = (test2[col] - test2[col].mean())/test2[col].std(ddof=0)\n",
        "\n",
        "test3 = test2.drop(num_cols, axis=1)\n",
        "\n",
        "test3"
      ],
      "metadata": {
        "colab": {
          "base_uri": "https://localhost:8080/",
          "height": 424
        },
        "id": "XiIjdWQJWoXt",
        "outputId": "391988cd-efaf-41bf-c1e6-373406861c80"
      },
      "execution_count": 58,
      "outputs": [
        {
          "output_type": "execute_result",
          "data": {
            "text/plain": [
              "    location sex  b_depth_length_ratio  b_length_depth_ratio  \\\n",
              "0          1   0              0.391594              2.553665   \n",
              "1          1   0              0.286334              3.492424   \n",
              "2          2   1              0.427807              2.337500   \n",
              "3          2   0              0.451131              2.216651   \n",
              "4          1   1              0.404278              2.473545   \n",
              "..       ...  ..                   ...                   ...   \n",
              "104        0   0              0.406417              2.460526   \n",
              "105        0   1              0.385027              2.597222   \n",
              "106        2   1              0.397959              2.512821   \n",
              "107        2   0              0.357285              2.798883   \n",
              "108        2   0              0.391594              2.553665   \n",
              "\n",
              "     w_length_mass_ratio   ID  bill_depth_zscore  bill_length_zscore  \\\n",
              "0               0.040220    2          -1.217784           -1.927517   \n",
              "1               0.046889    5          -2.132211           -0.047705   \n",
              "2               0.059697    7           1.356964            0.108133   \n",
              "3               0.048718    8           0.074179           -1.799950   \n",
              "4               0.051831    9           0.792539            0.108133   \n",
              "..                   ...  ...                ...                 ...   \n",
              "104             0.054722  507           0.843850            0.108133   \n",
              "105             0.052500  512           0.330736            0.108133   \n",
              "106             0.053165  516           1.100407            0.647572   \n",
              "107             0.055882  533           0.279425            0.911298   \n",
              "108             0.035495  541          -1.217784           -1.927517   \n",
              "\n",
              "     wing_length_zscore  mass_zscore  \n",
              "0              1.642621     1.370211  \n",
              "1              1.070085     0.305095  \n",
              "2             -0.225455    -1.115061  \n",
              "3             -0.873226    -0.404983  \n",
              "4             -1.428457    -0.819195  \n",
              "..                  ...          ...  \n",
              "104           -0.225455    -0.760022  \n",
              "105            0.977547    -0.286637  \n",
              "106            0.977547    -0.345810  \n",
              "107           -0.873226    -0.996715  \n",
              "108           -0.225455     1.547731  \n",
              "\n",
              "[109 rows x 10 columns]"
            ],
            "text/html": [
              "\n",
              "  <div id=\"df-bc69c401-9aa2-4e53-8095-b97079d4d20e\">\n",
              "    <div class=\"colab-df-container\">\n",
              "      <div>\n",
              "<style scoped>\n",
              "    .dataframe tbody tr th:only-of-type {\n",
              "        vertical-align: middle;\n",
              "    }\n",
              "\n",
              "    .dataframe tbody tr th {\n",
              "        vertical-align: top;\n",
              "    }\n",
              "\n",
              "    .dataframe thead th {\n",
              "        text-align: right;\n",
              "    }\n",
              "</style>\n",
              "<table border=\"1\" class=\"dataframe\">\n",
              "  <thead>\n",
              "    <tr style=\"text-align: right;\">\n",
              "      <th></th>\n",
              "      <th>location</th>\n",
              "      <th>sex</th>\n",
              "      <th>b_depth_length_ratio</th>\n",
              "      <th>b_length_depth_ratio</th>\n",
              "      <th>w_length_mass_ratio</th>\n",
              "      <th>ID</th>\n",
              "      <th>bill_depth_zscore</th>\n",
              "      <th>bill_length_zscore</th>\n",
              "      <th>wing_length_zscore</th>\n",
              "      <th>mass_zscore</th>\n",
              "    </tr>\n",
              "  </thead>\n",
              "  <tbody>\n",
              "    <tr>\n",
              "      <th>0</th>\n",
              "      <td>1</td>\n",
              "      <td>0</td>\n",
              "      <td>0.391594</td>\n",
              "      <td>2.553665</td>\n",
              "      <td>0.040220</td>\n",
              "      <td>2</td>\n",
              "      <td>-1.217784</td>\n",
              "      <td>-1.927517</td>\n",
              "      <td>1.642621</td>\n",
              "      <td>1.370211</td>\n",
              "    </tr>\n",
              "    <tr>\n",
              "      <th>1</th>\n",
              "      <td>1</td>\n",
              "      <td>0</td>\n",
              "      <td>0.286334</td>\n",
              "      <td>3.492424</td>\n",
              "      <td>0.046889</td>\n",
              "      <td>5</td>\n",
              "      <td>-2.132211</td>\n",
              "      <td>-0.047705</td>\n",
              "      <td>1.070085</td>\n",
              "      <td>0.305095</td>\n",
              "    </tr>\n",
              "    <tr>\n",
              "      <th>2</th>\n",
              "      <td>2</td>\n",
              "      <td>1</td>\n",
              "      <td>0.427807</td>\n",
              "      <td>2.337500</td>\n",
              "      <td>0.059697</td>\n",
              "      <td>7</td>\n",
              "      <td>1.356964</td>\n",
              "      <td>0.108133</td>\n",
              "      <td>-0.225455</td>\n",
              "      <td>-1.115061</td>\n",
              "    </tr>\n",
              "    <tr>\n",
              "      <th>3</th>\n",
              "      <td>2</td>\n",
              "      <td>0</td>\n",
              "      <td>0.451131</td>\n",
              "      <td>2.216651</td>\n",
              "      <td>0.048718</td>\n",
              "      <td>8</td>\n",
              "      <td>0.074179</td>\n",
              "      <td>-1.799950</td>\n",
              "      <td>-0.873226</td>\n",
              "      <td>-0.404983</td>\n",
              "    </tr>\n",
              "    <tr>\n",
              "      <th>4</th>\n",
              "      <td>1</td>\n",
              "      <td>1</td>\n",
              "      <td>0.404278</td>\n",
              "      <td>2.473545</td>\n",
              "      <td>0.051831</td>\n",
              "      <td>9</td>\n",
              "      <td>0.792539</td>\n",
              "      <td>0.108133</td>\n",
              "      <td>-1.428457</td>\n",
              "      <td>-0.819195</td>\n",
              "    </tr>\n",
              "    <tr>\n",
              "      <th>...</th>\n",
              "      <td>...</td>\n",
              "      <td>...</td>\n",
              "      <td>...</td>\n",
              "      <td>...</td>\n",
              "      <td>...</td>\n",
              "      <td>...</td>\n",
              "      <td>...</td>\n",
              "      <td>...</td>\n",
              "      <td>...</td>\n",
              "      <td>...</td>\n",
              "    </tr>\n",
              "    <tr>\n",
              "      <th>104</th>\n",
              "      <td>0</td>\n",
              "      <td>0</td>\n",
              "      <td>0.406417</td>\n",
              "      <td>2.460526</td>\n",
              "      <td>0.054722</td>\n",
              "      <td>507</td>\n",
              "      <td>0.843850</td>\n",
              "      <td>0.108133</td>\n",
              "      <td>-0.225455</td>\n",
              "      <td>-0.760022</td>\n",
              "    </tr>\n",
              "    <tr>\n",
              "      <th>105</th>\n",
              "      <td>0</td>\n",
              "      <td>1</td>\n",
              "      <td>0.385027</td>\n",
              "      <td>2.597222</td>\n",
              "      <td>0.052500</td>\n",
              "      <td>512</td>\n",
              "      <td>0.330736</td>\n",
              "      <td>0.108133</td>\n",
              "      <td>0.977547</td>\n",
              "      <td>-0.286637</td>\n",
              "    </tr>\n",
              "    <tr>\n",
              "      <th>106</th>\n",
              "      <td>2</td>\n",
              "      <td>1</td>\n",
              "      <td>0.397959</td>\n",
              "      <td>2.512821</td>\n",
              "      <td>0.053165</td>\n",
              "      <td>516</td>\n",
              "      <td>1.100407</td>\n",
              "      <td>0.647572</td>\n",
              "      <td>0.977547</td>\n",
              "      <td>-0.345810</td>\n",
              "    </tr>\n",
              "    <tr>\n",
              "      <th>107</th>\n",
              "      <td>2</td>\n",
              "      <td>0</td>\n",
              "      <td>0.357285</td>\n",
              "      <td>2.798883</td>\n",
              "      <td>0.055882</td>\n",
              "      <td>533</td>\n",
              "      <td>0.279425</td>\n",
              "      <td>0.911298</td>\n",
              "      <td>-0.873226</td>\n",
              "      <td>-0.996715</td>\n",
              "    </tr>\n",
              "    <tr>\n",
              "      <th>108</th>\n",
              "      <td>2</td>\n",
              "      <td>0</td>\n",
              "      <td>0.391594</td>\n",
              "      <td>2.553665</td>\n",
              "      <td>0.035495</td>\n",
              "      <td>541</td>\n",
              "      <td>-1.217784</td>\n",
              "      <td>-1.927517</td>\n",
              "      <td>-0.225455</td>\n",
              "      <td>1.547731</td>\n",
              "    </tr>\n",
              "  </tbody>\n",
              "</table>\n",
              "<p>109 rows × 10 columns</p>\n",
              "</div>\n",
              "      <button class=\"colab-df-convert\" onclick=\"convertToInteractive('df-bc69c401-9aa2-4e53-8095-b97079d4d20e')\"\n",
              "              title=\"Convert this dataframe to an interactive table.\"\n",
              "              style=\"display:none;\">\n",
              "        \n",
              "  <svg xmlns=\"http://www.w3.org/2000/svg\" height=\"24px\"viewBox=\"0 0 24 24\"\n",
              "       width=\"24px\">\n",
              "    <path d=\"M0 0h24v24H0V0z\" fill=\"none\"/>\n",
              "    <path d=\"M18.56 5.44l.94 2.06.94-2.06 2.06-.94-2.06-.94-.94-2.06-.94 2.06-2.06.94zm-11 1L8.5 8.5l.94-2.06 2.06-.94-2.06-.94L8.5 2.5l-.94 2.06-2.06.94zm10 10l.94 2.06.94-2.06 2.06-.94-2.06-.94-.94-2.06-.94 2.06-2.06.94z\"/><path d=\"M17.41 7.96l-1.37-1.37c-.4-.4-.92-.59-1.43-.59-.52 0-1.04.2-1.43.59L10.3 9.45l-7.72 7.72c-.78.78-.78 2.05 0 2.83L4 21.41c.39.39.9.59 1.41.59.51 0 1.02-.2 1.41-.59l7.78-7.78 2.81-2.81c.8-.78.8-2.07 0-2.86zM5.41 20L4 18.59l7.72-7.72 1.47 1.35L5.41 20z\"/>\n",
              "  </svg>\n",
              "      </button>\n",
              "      \n",
              "  <style>\n",
              "    .colab-df-container {\n",
              "      display:flex;\n",
              "      flex-wrap:wrap;\n",
              "      gap: 12px;\n",
              "    }\n",
              "\n",
              "    .colab-df-convert {\n",
              "      background-color: #E8F0FE;\n",
              "      border: none;\n",
              "      border-radius: 50%;\n",
              "      cursor: pointer;\n",
              "      display: none;\n",
              "      fill: #1967D2;\n",
              "      height: 32px;\n",
              "      padding: 0 0 0 0;\n",
              "      width: 32px;\n",
              "    }\n",
              "\n",
              "    .colab-df-convert:hover {\n",
              "      background-color: #E2EBFA;\n",
              "      box-shadow: 0px 1px 2px rgba(60, 64, 67, 0.3), 0px 1px 3px 1px rgba(60, 64, 67, 0.15);\n",
              "      fill: #174EA6;\n",
              "    }\n",
              "\n",
              "    [theme=dark] .colab-df-convert {\n",
              "      background-color: #3B4455;\n",
              "      fill: #D2E3FC;\n",
              "    }\n",
              "\n",
              "    [theme=dark] .colab-df-convert:hover {\n",
              "      background-color: #434B5C;\n",
              "      box-shadow: 0px 1px 3px 1px rgba(0, 0, 0, 0.15);\n",
              "      filter: drop-shadow(0px 1px 2px rgba(0, 0, 0, 0.3));\n",
              "      fill: #FFFFFF;\n",
              "    }\n",
              "  </style>\n",
              "\n",
              "      <script>\n",
              "        const buttonEl =\n",
              "          document.querySelector('#df-bc69c401-9aa2-4e53-8095-b97079d4d20e button.colab-df-convert');\n",
              "        buttonEl.style.display =\n",
              "          google.colab.kernel.accessAllowed ? 'block' : 'none';\n",
              "\n",
              "        async function convertToInteractive(key) {\n",
              "          const element = document.querySelector('#df-bc69c401-9aa2-4e53-8095-b97079d4d20e');\n",
              "          const dataTable =\n",
              "            await google.colab.kernel.invokeFunction('convertToInteractive',\n",
              "                                                     [key], {});\n",
              "          if (!dataTable) return;\n",
              "\n",
              "          const docLinkHtml = 'Like what you see? Visit the ' +\n",
              "            '<a target=\"_blank\" href=https://colab.research.google.com/notebooks/data_table.ipynb>data table notebook</a>'\n",
              "            + ' to learn more about interactive tables.';\n",
              "          element.innerHTML = '';\n",
              "          dataTable['output_type'] = 'display_data';\n",
              "          await google.colab.output.renderOutput(dataTable, element);\n",
              "          const docLink = document.createElement('div');\n",
              "          docLink.innerHTML = docLinkHtml;\n",
              "          element.appendChild(docLink);\n",
              "        }\n",
              "      </script>\n",
              "    </div>\n",
              "  </div>\n",
              "  "
            ]
          },
          "metadata": {},
          "execution_count": 58
        }
      ]
    },
    {
      "cell_type": "code",
      "source": [
        "test3.to_csv('test_python.csv', index=False, sep=',')"
      ],
      "metadata": {
        "id": "rSxXZqAuVGeB"
      },
      "execution_count": 59,
      "outputs": []
    }
  ],
  "metadata": {
    "interpreter": {
      "hash": "0f1e841692445df6c0f476977380d4c26cc40d52508098a18c340919add514d9"
    },
    "kernelspec": {
      "display_name": "Python 3.9.10 ('base')",
      "language": "python",
      "name": "python3"
    },
    "language_info": {
      "codemirror_mode": {
        "name": "ipython",
        "version": 3
      },
      "file_extension": ".py",
      "mimetype": "text/x-python",
      "name": "python",
      "nbconvert_exporter": "python",
      "pygments_lexer": "ipython3",
      "version": "3.9.10"
    },
    "orig_nbformat": 4,
    "colab": {
      "name": "bird-classification.ipynb",
      "provenance": []
    }
  },
  "nbformat": 4,
  "nbformat_minor": 0
}